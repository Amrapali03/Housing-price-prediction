{
 "cells": [
  {
   "cell_type": "markdown",
   "id": "9b777a79",
   "metadata": {},
   "source": [
    "Source: Practical Statistics for Data Scientists (Python)\n",
    "\n",
    "Regression and Prediction"
   ]
  },
  {
   "cell_type": "code",
   "execution_count": 34,
   "id": "c2b44f29",
   "metadata": {},
   "outputs": [],
   "source": [
    "from pathlib import Path\n",
    "\n",
    "import pandas as pd\n",
    "import numpy as np\n",
    "from sklearn.metrics import r2_score, mean_squared_error\n",
    "from sklearn.linear_model import LinearRegression\n",
    "\n",
    "import statsmodels.api as sm\n",
    "import statsmodels.formula.api as smf\n",
    "from statsmodels.stats.outliers_influence import OLSInfluence\n",
    "\n",
    "from pygam import LinearGAM, s, l\n",
    "from pygam.datasets import wage\n",
    "\n",
    "\n",
    "import seaborn as sns\n",
    "import matplotlib.pyplot as plt\n",
    "\n",
    "from dmba import stepwise_selection\n",
    "from dmba import AIC_score"
   ]
  },
  {
   "cell_type": "code",
   "execution_count": 35,
   "id": "e3b56f5d",
   "metadata": {},
   "outputs": [],
   "source": [
    "%matplotlib inline"
   ]
  },
  {
   "cell_type": "code",
   "execution_count": 3,
   "id": "9fad284a",
   "metadata": {},
   "outputs": [],
   "source": [
    "try:\n",
    "    import common\n",
    "    DATA = common.dataDirectory()\n",
    "except ImportError:\n",
    "    DATA = Path().resolve() / 'data'"
   ]
  },
  {
   "cell_type": "markdown",
   "id": "cb329507",
   "metadata": {},
   "source": [
    "# Multiple linear regression"
   ]
  },
  {
   "cell_type": "markdown",
   "id": "a10cd859",
   "metadata": {},
   "source": [
    "### Topic: King County Housing Data. \n",
    "#### The goal is to predict the sales price from the other variables.\n"
   ]
  },
  {
   "cell_type": "code",
   "execution_count": 10,
   "id": "d2ead333",
   "metadata": {},
   "outputs": [
    {
     "name": "stdout",
     "output_type": "stream",
     "text": [
      "  DocumentDate  SalePrice  PropertyID   PropertyType          ym  zhvi_px  \\\n",
      "1   2014-09-16     280000     1000102      Multiplex  2014-09-01   405100   \n",
      "2   2006-06-16    1000000     1200013  Single Family  2006-06-01   404400   \n",
      "3   2007-01-29     745000     1200019  Single Family  2007-01-01   425600   \n",
      "4   2008-02-25     425000     2800016  Single Family  2008-02-01   418400   \n",
      "5   2013-03-29     240000     2800024  Single Family  2013-03-01   351600   \n",
      "\n",
      "   zhvi_idx  AdjSalePrice  NbrLivingUnits  SqFtLot  ...  Bathrooms  Bedrooms  \\\n",
      "1  0.930836      300805.0               2     9373  ...       3.00         6   \n",
      "2  0.929228     1076162.0               1    20156  ...       3.75         4   \n",
      "3  0.977941      761805.0               1    26036  ...       1.75         4   \n",
      "4  0.961397      442065.0               1     8618  ...       3.75         5   \n",
      "5  0.807904      297065.0               1     8620  ...       1.75         4   \n",
      "\n",
      "   BldgGrade  YrBuilt  YrRenovated  TrafficNoise  LandVal  ImpsVal  ZipCode  \\\n",
      "1          7     1991            0             0    70000   229000    98002   \n",
      "2         10     2005            0             0   203000   590000    98166   \n",
      "3          8     1947            0             0   183000   275000    98166   \n",
      "4          7     1966            0             0   104000   229000    98168   \n",
      "5          7     1948            0             0   104000   205000    98168   \n",
      "\n",
      "   NewConstruction  \n",
      "1            False  \n",
      "2             True  \n",
      "3            False  \n",
      "4            False  \n",
      "5            False  \n",
      "\n",
      "[5 rows x 22 columns]\n"
     ]
    }
   ],
   "source": [
    "house = pd.read_csv('/Users/amrapaliMac/Library/CloudStorage/OneDrive-Personal/Practical statistics for data scientists practice/house_sales.csv',\n",
    "                    sep='\\t')\n",
    "print(house.head())"
   ]
  },
  {
   "cell_type": "code",
   "execution_count": 11,
   "id": "b17c83e1",
   "metadata": {},
   "outputs": [
    {
     "name": "stdout",
     "output_type": "stream",
     "text": [
      "   AdjSalePrice  SqFtTotLiving  SqFtLot  Bathrooms  Bedrooms  BldgGrade\n",
      "1      300805.0           2400     9373       3.00         6          7\n",
      "2     1076162.0           3764    20156       3.75         4         10\n",
      "3      761805.0           2060    26036       1.75         4          8\n",
      "4      442065.0           3200     8618       3.75         5          7\n",
      "5      297065.0           1720     8620       1.75         4          7\n"
     ]
    }
   ],
   "source": [
    "subset = ['AdjSalePrice', 'SqFtTotLiving', 'SqFtLot', 'Bathrooms', \n",
    "          'Bedrooms', 'BldgGrade']\n",
    "\n",
    "\n",
    "house = pd.read_csv('/Users/amrapaliMac/Library/CloudStorage/OneDrive-Personal/Practical statistics for data scientists practice/house_sales.csv',\n",
    "                    sep='\\t')\n",
    "print(house[subset].head())"
   ]
  },
  {
   "cell_type": "code",
   "execution_count": 12,
   "id": "f36e6b8c",
   "metadata": {},
   "outputs": [
    {
     "name": "stdout",
     "output_type": "stream",
     "text": [
      "Intercept: -521871.368\n",
      "Coefficients:\n",
      " SqFtTotLiving: 228.83060360240785\n",
      " SqFtLot: -0.060466820653068964\n",
      " Bathrooms: -19442.840398321077\n",
      " Bedrooms: -47769.95518521434\n",
      " BldgGrade: 106106.96307898086\n"
     ]
    }
   ],
   "source": [
    "predictors = ['SqFtTotLiving', 'SqFtLot', 'Bathrooms', \n",
    "              'Bedrooms', 'BldgGrade']\n",
    "outcome = 'AdjSalePrice'\n",
    "\n",
    "house_lm = LinearRegression()\n",
    "house_lm.fit(house[predictors], house[outcome])\n",
    "\n",
    "# The zip() function is used to iterate over the names of the predictors and the corresponding coefficients obtained from the LinearRegression object.\n",
    "print(f'Intercept: {house_lm.intercept_:.3f}')\n",
    "print('Coefficients:')\n",
    "for name, coef in zip(predictors, house_lm.coef_):\n",
    "    print(f' {name}: {coef}')"
   ]
  },
  {
   "cell_type": "markdown",
   "id": "9e711e6f",
   "metadata": {},
   "source": [
    "# Assessing the Model"
   ]
  },
  {
   "cell_type": "code",
   "execution_count": 13,
   "id": "8c1e989b",
   "metadata": {},
   "outputs": [
    {
     "name": "stdout",
     "output_type": "stream",
     "text": [
      "RMSE: 261220\n",
      "r2: 0.5406\n"
     ]
    },
    {
     "data": {
      "text/html": [
       "<table class=\"simpletable\">\n",
       "<caption>OLS Regression Results</caption>\n",
       "<tr>\n",
       "  <th>Dep. Variable:</th>      <td>AdjSalePrice</td>   <th>  R-squared:         </th>  <td>   0.541</td>  \n",
       "</tr>\n",
       "<tr>\n",
       "  <th>Model:</th>                   <td>OLS</td>       <th>  Adj. R-squared:    </th>  <td>   0.540</td>  \n",
       "</tr>\n",
       "<tr>\n",
       "  <th>Method:</th>             <td>Least Squares</td>  <th>  F-statistic:       </th>  <td>   5338.</td>  \n",
       "</tr>\n",
       "<tr>\n",
       "  <th>Date:</th>             <td>Thu, 20 Apr 2023</td> <th>  Prob (F-statistic):</th>   <td>  0.00</td>   \n",
       "</tr>\n",
       "<tr>\n",
       "  <th>Time:</th>                 <td>21:16:44</td>     <th>  Log-Likelihood:    </th> <td>-3.1517e+05</td>\n",
       "</tr>\n",
       "<tr>\n",
       "  <th>No. Observations:</th>      <td> 22687</td>      <th>  AIC:               </th>  <td>6.304e+05</td> \n",
       "</tr>\n",
       "<tr>\n",
       "  <th>Df Residuals:</th>          <td> 22681</td>      <th>  BIC:               </th>  <td>6.304e+05</td> \n",
       "</tr>\n",
       "<tr>\n",
       "  <th>Df Model:</th>              <td>     5</td>      <th>                     </th>      <td> </td>     \n",
       "</tr>\n",
       "<tr>\n",
       "  <th>Covariance Type:</th>      <td>nonrobust</td>    <th>                     </th>      <td> </td>     \n",
       "</tr>\n",
       "</table>\n",
       "<table class=\"simpletable\">\n",
       "<tr>\n",
       "        <td></td>           <th>coef</th>     <th>std err</th>      <th>t</th>      <th>P>|t|</th>  <th>[0.025</th>    <th>0.975]</th>  \n",
       "</tr>\n",
       "<tr>\n",
       "  <th>SqFtTotLiving</th> <td>  228.8306</td> <td>    3.899</td> <td>   58.694</td> <td> 0.000</td> <td>  221.189</td> <td>  236.472</td>\n",
       "</tr>\n",
       "<tr>\n",
       "  <th>SqFtLot</th>       <td>   -0.0605</td> <td>    0.061</td> <td>   -0.988</td> <td> 0.323</td> <td>   -0.180</td> <td>    0.059</td>\n",
       "</tr>\n",
       "<tr>\n",
       "  <th>Bathrooms</th>     <td>-1.944e+04</td> <td> 3625.388</td> <td>   -5.363</td> <td> 0.000</td> <td>-2.65e+04</td> <td>-1.23e+04</td>\n",
       "</tr>\n",
       "<tr>\n",
       "  <th>Bedrooms</th>      <td>-4.777e+04</td> <td> 2489.732</td> <td>  -19.187</td> <td> 0.000</td> <td>-5.27e+04</td> <td>-4.29e+04</td>\n",
       "</tr>\n",
       "<tr>\n",
       "  <th>BldgGrade</th>     <td> 1.061e+05</td> <td> 2396.445</td> <td>   44.277</td> <td> 0.000</td> <td> 1.01e+05</td> <td> 1.11e+05</td>\n",
       "</tr>\n",
       "<tr>\n",
       "  <th>const</th>         <td>-5.219e+05</td> <td> 1.57e+04</td> <td>  -33.342</td> <td> 0.000</td> <td>-5.53e+05</td> <td>-4.91e+05</td>\n",
       "</tr>\n",
       "</table>\n",
       "<table class=\"simpletable\">\n",
       "<tr>\n",
       "  <th>Omnibus:</th>       <td>29676.557</td> <th>  Durbin-Watson:     </th>   <td>   1.247</td>  \n",
       "</tr>\n",
       "<tr>\n",
       "  <th>Prob(Omnibus):</th>  <td> 0.000</td>   <th>  Jarque-Bera (JB):  </th> <td>19390738.346</td>\n",
       "</tr>\n",
       "<tr>\n",
       "  <th>Skew:</th>           <td> 6.889</td>   <th>  Prob(JB):          </th>   <td>    0.00</td>  \n",
       "</tr>\n",
       "<tr>\n",
       "  <th>Kurtosis:</th>       <td>145.559</td>  <th>  Cond. No.          </th>   <td>2.86e+05</td>  \n",
       "</tr>\n",
       "</table><br/><br/>Notes:<br/>[1] Standard Errors assume that the covariance matrix of the errors is correctly specified.<br/>[2] The condition number is large, 2.86e+05. This might indicate that there are<br/>strong multicollinearity or other numerical problems."
      ],
      "text/plain": [
       "<class 'statsmodels.iolib.summary.Summary'>\n",
       "\"\"\"\n",
       "                            OLS Regression Results                            \n",
       "==============================================================================\n",
       "Dep. Variable:           AdjSalePrice   R-squared:                       0.541\n",
       "Model:                            OLS   Adj. R-squared:                  0.540\n",
       "Method:                 Least Squares   F-statistic:                     5338.\n",
       "Date:                Thu, 20 Apr 2023   Prob (F-statistic):               0.00\n",
       "Time:                        21:16:44   Log-Likelihood:            -3.1517e+05\n",
       "No. Observations:               22687   AIC:                         6.304e+05\n",
       "Df Residuals:                   22681   BIC:                         6.304e+05\n",
       "Df Model:                           5                                         \n",
       "Covariance Type:            nonrobust                                         \n",
       "=================================================================================\n",
       "                    coef    std err          t      P>|t|      [0.025      0.975]\n",
       "---------------------------------------------------------------------------------\n",
       "SqFtTotLiving   228.8306      3.899     58.694      0.000     221.189     236.472\n",
       "SqFtLot          -0.0605      0.061     -0.988      0.323      -0.180       0.059\n",
       "Bathrooms     -1.944e+04   3625.388     -5.363      0.000   -2.65e+04   -1.23e+04\n",
       "Bedrooms      -4.777e+04   2489.732    -19.187      0.000   -5.27e+04   -4.29e+04\n",
       "BldgGrade      1.061e+05   2396.445     44.277      0.000    1.01e+05    1.11e+05\n",
       "const         -5.219e+05   1.57e+04    -33.342      0.000   -5.53e+05   -4.91e+05\n",
       "==============================================================================\n",
       "Omnibus:                    29676.557   Durbin-Watson:                   1.247\n",
       "Prob(Omnibus):                  0.000   Jarque-Bera (JB):         19390738.346\n",
       "Skew:                           6.889   Prob(JB):                         0.00\n",
       "Kurtosis:                     145.559   Cond. No.                     2.86e+05\n",
       "==============================================================================\n",
       "\n",
       "Notes:\n",
       "[1] Standard Errors assume that the covariance matrix of the errors is correctly specified.\n",
       "[2] The condition number is large, 2.86e+05. This might indicate that there are\n",
       "strong multicollinearity or other numerical problems.\n",
       "\"\"\""
      ]
     },
     "execution_count": 13,
     "metadata": {},
     "output_type": "execute_result"
    }
   ],
   "source": [
    "fitted = house_lm.predict(house[predictors])\n",
    "RMSE = np.sqrt(mean_squared_error(house[outcome], fitted))\n",
    "r2 = r2_score(house[outcome], fitted)\n",
    "print(f'RMSE: {RMSE:.0f}')\n",
    "print(f'r2: {r2:.4f}')\n",
    "\n",
    "# The pandas method assign, as used here, adds a constant column with value 1 to the predictors. This is required to model the intercept.\n",
    "model = sm.OLS(house[outcome], house[predictors].assign(const=1))\n",
    "results = model.fit()\n",
    "results.summary()"
   ]
  },
  {
   "cell_type": "markdown",
   "id": "60373cc0",
   "metadata": {},
   "source": [
    "## Model Selection and Stepwise Regression"
   ]
  },
  {
   "cell_type": "markdown",
   "id": "22e264f8",
   "metadata": {},
   "source": [
    "Before fitting the model, X is created as a design matrix by encoding categorical variables as dummy variables using pd.get_dummies(). drop_first=True is used to avoid the dummy variable trap."
   ]
  },
  {
   "cell_type": "code",
   "execution_count": 14,
   "id": "10060ae9",
   "metadata": {},
   "outputs": [
    {
     "data": {
      "text/html": [
       "<div>\n",
       "<style scoped>\n",
       "    .dataframe tbody tr th:only-of-type {\n",
       "        vertical-align: middle;\n",
       "    }\n",
       "\n",
       "    .dataframe tbody tr th {\n",
       "        vertical-align: top;\n",
       "    }\n",
       "\n",
       "    .dataframe thead th {\n",
       "        text-align: right;\n",
       "    }\n",
       "</style>\n",
       "<table border=\"1\" class=\"dataframe\">\n",
       "  <thead>\n",
       "    <tr style=\"text-align: right;\">\n",
       "      <th></th>\n",
       "      <th>SqFtTotLiving</th>\n",
       "      <th>SqFtLot</th>\n",
       "      <th>Bathrooms</th>\n",
       "      <th>Bedrooms</th>\n",
       "      <th>BldgGrade</th>\n",
       "      <th>NbrLivingUnits</th>\n",
       "      <th>SqFtFinBasement</th>\n",
       "      <th>YrBuilt</th>\n",
       "      <th>YrRenovated</th>\n",
       "      <th>NewConstruction</th>\n",
       "      <th>PropertyType_Single Family</th>\n",
       "      <th>PropertyType_Townhouse</th>\n",
       "    </tr>\n",
       "  </thead>\n",
       "  <tbody>\n",
       "    <tr>\n",
       "      <th>1</th>\n",
       "      <td>2400</td>\n",
       "      <td>9373</td>\n",
       "      <td>3.00</td>\n",
       "      <td>6</td>\n",
       "      <td>7</td>\n",
       "      <td>2</td>\n",
       "      <td>0</td>\n",
       "      <td>1991</td>\n",
       "      <td>0</td>\n",
       "      <td>0</td>\n",
       "      <td>0</td>\n",
       "      <td>0</td>\n",
       "    </tr>\n",
       "    <tr>\n",
       "      <th>2</th>\n",
       "      <td>3764</td>\n",
       "      <td>20156</td>\n",
       "      <td>3.75</td>\n",
       "      <td>4</td>\n",
       "      <td>10</td>\n",
       "      <td>1</td>\n",
       "      <td>1452</td>\n",
       "      <td>2005</td>\n",
       "      <td>0</td>\n",
       "      <td>1</td>\n",
       "      <td>1</td>\n",
       "      <td>0</td>\n",
       "    </tr>\n",
       "    <tr>\n",
       "      <th>3</th>\n",
       "      <td>2060</td>\n",
       "      <td>26036</td>\n",
       "      <td>1.75</td>\n",
       "      <td>4</td>\n",
       "      <td>8</td>\n",
       "      <td>1</td>\n",
       "      <td>900</td>\n",
       "      <td>1947</td>\n",
       "      <td>0</td>\n",
       "      <td>0</td>\n",
       "      <td>1</td>\n",
       "      <td>0</td>\n",
       "    </tr>\n",
       "    <tr>\n",
       "      <th>4</th>\n",
       "      <td>3200</td>\n",
       "      <td>8618</td>\n",
       "      <td>3.75</td>\n",
       "      <td>5</td>\n",
       "      <td>7</td>\n",
       "      <td>1</td>\n",
       "      <td>1640</td>\n",
       "      <td>1966</td>\n",
       "      <td>0</td>\n",
       "      <td>0</td>\n",
       "      <td>1</td>\n",
       "      <td>0</td>\n",
       "    </tr>\n",
       "    <tr>\n",
       "      <th>5</th>\n",
       "      <td>1720</td>\n",
       "      <td>8620</td>\n",
       "      <td>1.75</td>\n",
       "      <td>4</td>\n",
       "      <td>7</td>\n",
       "      <td>1</td>\n",
       "      <td>0</td>\n",
       "      <td>1948</td>\n",
       "      <td>0</td>\n",
       "      <td>0</td>\n",
       "      <td>1</td>\n",
       "      <td>0</td>\n",
       "    </tr>\n",
       "    <tr>\n",
       "      <th>...</th>\n",
       "      <td>...</td>\n",
       "      <td>...</td>\n",
       "      <td>...</td>\n",
       "      <td>...</td>\n",
       "      <td>...</td>\n",
       "      <td>...</td>\n",
       "      <td>...</td>\n",
       "      <td>...</td>\n",
       "      <td>...</td>\n",
       "      <td>...</td>\n",
       "      <td>...</td>\n",
       "      <td>...</td>\n",
       "    </tr>\n",
       "    <tr>\n",
       "      <th>27057</th>\n",
       "      <td>1480</td>\n",
       "      <td>5468</td>\n",
       "      <td>1.75</td>\n",
       "      <td>3</td>\n",
       "      <td>7</td>\n",
       "      <td>1</td>\n",
       "      <td>590</td>\n",
       "      <td>1951</td>\n",
       "      <td>0</td>\n",
       "      <td>0</td>\n",
       "      <td>1</td>\n",
       "      <td>0</td>\n",
       "    </tr>\n",
       "    <tr>\n",
       "      <th>27058</th>\n",
       "      <td>4720</td>\n",
       "      <td>23914</td>\n",
       "      <td>4.50</td>\n",
       "      <td>4</td>\n",
       "      <td>11</td>\n",
       "      <td>1</td>\n",
       "      <td>910</td>\n",
       "      <td>2000</td>\n",
       "      <td>0</td>\n",
       "      <td>0</td>\n",
       "      <td>1</td>\n",
       "      <td>0</td>\n",
       "    </tr>\n",
       "    <tr>\n",
       "      <th>27061</th>\n",
       "      <td>1070</td>\n",
       "      <td>11170</td>\n",
       "      <td>1.00</td>\n",
       "      <td>4</td>\n",
       "      <td>6</td>\n",
       "      <td>1</td>\n",
       "      <td>0</td>\n",
       "      <td>1971</td>\n",
       "      <td>0</td>\n",
       "      <td>0</td>\n",
       "      <td>1</td>\n",
       "      <td>0</td>\n",
       "    </tr>\n",
       "    <tr>\n",
       "      <th>27062</th>\n",
       "      <td>1345</td>\n",
       "      <td>6223</td>\n",
       "      <td>2.00</td>\n",
       "      <td>3</td>\n",
       "      <td>7</td>\n",
       "      <td>1</td>\n",
       "      <td>0</td>\n",
       "      <td>1939</td>\n",
       "      <td>0</td>\n",
       "      <td>0</td>\n",
       "      <td>1</td>\n",
       "      <td>0</td>\n",
       "    </tr>\n",
       "    <tr>\n",
       "      <th>27063</th>\n",
       "      <td>790</td>\n",
       "      <td>4400</td>\n",
       "      <td>1.50</td>\n",
       "      <td>3</td>\n",
       "      <td>7</td>\n",
       "      <td>1</td>\n",
       "      <td>0</td>\n",
       "      <td>1928</td>\n",
       "      <td>0</td>\n",
       "      <td>0</td>\n",
       "      <td>1</td>\n",
       "      <td>0</td>\n",
       "    </tr>\n",
       "  </tbody>\n",
       "</table>\n",
       "<p>22687 rows × 12 columns</p>\n",
       "</div>"
      ],
      "text/plain": [
       "       SqFtTotLiving  SqFtLot  Bathrooms  Bedrooms  BldgGrade  NbrLivingUnits  \\\n",
       "1               2400     9373       3.00         6          7               2   \n",
       "2               3764    20156       3.75         4         10               1   \n",
       "3               2060    26036       1.75         4          8               1   \n",
       "4               3200     8618       3.75         5          7               1   \n",
       "5               1720     8620       1.75         4          7               1   \n",
       "...              ...      ...        ...       ...        ...             ...   \n",
       "27057           1480     5468       1.75         3          7               1   \n",
       "27058           4720    23914       4.50         4         11               1   \n",
       "27061           1070    11170       1.00         4          6               1   \n",
       "27062           1345     6223       2.00         3          7               1   \n",
       "27063            790     4400       1.50         3          7               1   \n",
       "\n",
       "       SqFtFinBasement  YrBuilt  YrRenovated  NewConstruction  \\\n",
       "1                    0     1991            0                0   \n",
       "2                 1452     2005            0                1   \n",
       "3                  900     1947            0                0   \n",
       "4                 1640     1966            0                0   \n",
       "5                    0     1948            0                0   \n",
       "...                ...      ...          ...              ...   \n",
       "27057              590     1951            0                0   \n",
       "27058              910     2000            0                0   \n",
       "27061                0     1971            0                0   \n",
       "27062                0     1939            0                0   \n",
       "27063                0     1928            0                0   \n",
       "\n",
       "       PropertyType_Single Family  PropertyType_Townhouse  \n",
       "1                               0                       0  \n",
       "2                               1                       0  \n",
       "3                               1                       0  \n",
       "4                               1                       0  \n",
       "5                               1                       0  \n",
       "...                           ...                     ...  \n",
       "27057                           1                       0  \n",
       "27058                           1                       0  \n",
       "27061                           1                       0  \n",
       "27062                           1                       0  \n",
       "27063                           1                       0  \n",
       "\n",
       "[22687 rows x 12 columns]"
      ]
     },
     "execution_count": 14,
     "metadata": {},
     "output_type": "execute_result"
    }
   ],
   "source": [
    "predictors = ['SqFtTotLiving', 'SqFtLot', 'Bathrooms', 'Bedrooms',\n",
    "              'BldgGrade', 'PropertyType', 'NbrLivingUnits',\n",
    "              'SqFtFinBasement', 'YrBuilt', 'YrRenovated', \n",
    "              'NewConstruction']\n",
    "\n",
    "X = pd.get_dummies(house[predictors], drop_first=True)\n",
    "X['NewConstruction'] = [1 if nc else 0 for nc in X['NewConstruction']]\n",
    "X"
   ]
  },
  {
   "cell_type": "markdown",
   "id": "71047a74",
   "metadata": {},
   "source": [
    "After creating the design matrix, sm.OLS() is used to fit the model, with the dependent variable specified as house[outcome] and the independent variables specified as X.assign(const=1). const=1 is added to include a constant term in the model. The fit() method is then used to estimate the parameters of the model and print a summary of the results using print(results.summary())."
   ]
  },
  {
   "cell_type": "code",
   "execution_count": 15,
   "id": "fc47c1ef",
   "metadata": {},
   "outputs": [
    {
     "name": "stdout",
     "output_type": "stream",
     "text": [
      "                            OLS Regression Results                            \n",
      "==============================================================================\n",
      "Dep. Variable:           AdjSalePrice   R-squared:                       0.595\n",
      "Model:                            OLS   Adj. R-squared:                  0.594\n",
      "Method:                 Least Squares   F-statistic:                     2771.\n",
      "Date:                Thu, 20 Apr 2023   Prob (F-statistic):               0.00\n",
      "Time:                        21:16:44   Log-Likelihood:            -3.1375e+05\n",
      "No. Observations:               22687   AIC:                         6.275e+05\n",
      "Df Residuals:                   22674   BIC:                         6.276e+05\n",
      "Df Model:                          12                                         \n",
      "Covariance Type:            nonrobust                                         \n",
      "==============================================================================================\n",
      "                                 coef    std err          t      P>|t|      [0.025      0.975]\n",
      "----------------------------------------------------------------------------------------------\n",
      "SqFtTotLiving                198.6364      4.234     46.920      0.000     190.338     206.934\n",
      "SqFtLot                        0.0771      0.058      1.330      0.184      -0.037       0.191\n",
      "Bathrooms                   4.286e+04   3808.114     11.255      0.000    3.54e+04    5.03e+04\n",
      "Bedrooms                   -5.187e+04   2396.904    -21.638      0.000   -5.66e+04   -4.72e+04\n",
      "BldgGrade                   1.373e+05   2441.242     56.228      0.000    1.32e+05    1.42e+05\n",
      "NbrLivingUnits              5723.8438   1.76e+04      0.326      0.744   -2.87e+04    4.01e+04\n",
      "SqFtFinBasement                7.0611      4.627      1.526      0.127      -2.009      16.131\n",
      "YrBuilt                    -3574.2210     77.228    -46.282      0.000   -3725.593   -3422.849\n",
      "YrRenovated                   -2.5311      3.924     -0.645      0.519     -10.222       5.160\n",
      "NewConstruction            -2489.1122   5936.692     -0.419      0.675   -1.41e+04    9147.211\n",
      "PropertyType_Single Family  2.997e+04   2.61e+04      1.149      0.251   -2.12e+04    8.11e+04\n",
      "PropertyType_Townhouse      9.286e+04    2.7e+04      3.438      0.001    3.99e+04    1.46e+05\n",
      "const                       6.182e+06   1.55e+05     39.902      0.000    5.88e+06    6.49e+06\n",
      "==============================================================================\n",
      "Omnibus:                    31006.128   Durbin-Watson:                   1.393\n",
      "Prob(Omnibus):                  0.000   Jarque-Bera (JB):         26251977.078\n",
      "Skew:                           7.427   Prob(JB):                         0.00\n",
      "Kurtosis:                     168.984   Cond. No.                     2.98e+06\n",
      "==============================================================================\n",
      "\n",
      "Notes:\n",
      "[1] Standard Errors assume that the covariance matrix of the errors is correctly specified.\n",
      "[2] The condition number is large, 2.98e+06. This might indicate that there are\n",
      "strong multicollinearity or other numerical problems.\n"
     ]
    }
   ],
   "source": [
    "house_full = sm.OLS(house[outcome], X.assign(const=1))\n",
    "results = house_full.fit()\n",
    "print(results.summary())"
   ]
  },
  {
   "cell_type": "markdown",
   "id": "218c6ce5",
   "metadata": {},
   "source": [
    "The algorithm starts with an empty set of variables and iteratively adds or removes variables to maximize the AIC score of the resulting model. The final output is the best model and the set of variables that produced the best AIC score.\n",
    "This applies the stepwise selection algorithm on the features in X using the train_model and score_model functions defined earlier. It returns the best model (best_model) and the selected variables (best_variables) for the best-performing model."
   ]
  },
  {
   "cell_type": "code",
   "execution_count": 16,
   "id": "a6d7ca48",
   "metadata": {},
   "outputs": [
    {
     "name": "stdout",
     "output_type": "stream",
     "text": [
      "Variables: SqFtTotLiving, SqFtLot, Bathrooms, Bedrooms, BldgGrade, NbrLivingUnits, SqFtFinBasement, YrBuilt, YrRenovated, NewConstruction, PropertyType_Single Family, PropertyType_Townhouse\n",
      "Start: score=647988.32, constant\n",
      "Step: score=633013.35, add SqFtTotLiving\n",
      "Step: score=630793.74, add BldgGrade\n",
      "Step: score=628230.29, add YrBuilt\n",
      "Step: score=627784.16, add Bedrooms\n",
      "Step: score=627602.21, add Bathrooms\n",
      "Step: score=627525.65, add PropertyType_Townhouse\n",
      "Step: score=627525.08, add SqFtFinBasement\n",
      "Step: score=627524.98, add PropertyType_Single Family\n",
      "Step: score=627524.98, unchanged None\n",
      "\n"
     ]
    }
   ],
   "source": [
    "y = house[outcome]\n",
    "\n",
    "def train_model(variables):\n",
    "    if len(variables) == 0:\n",
    "        return None\n",
    "    model = LinearRegression()\n",
    "    model.fit(X[variables], y)\n",
    "    return model\n",
    "\n",
    "def score_model(model, variables):\n",
    "    if len(variables) == 0:  \n",
    "        return AIC_score(y, [y.mean()] * len(y), model, df=1)\n",
    "    # this calculates the AIC score for the model, given the selected variables and the target variable.\n",
    "    return AIC_score(y, model.predict(X[variables]), model)\n",
    "\n",
    "best_model, best_variables = stepwise_selection(X.columns, train_model, score_model, \n",
    "                                                verbose=True)\n",
    "\n",
    "print()"
   ]
  },
  {
   "cell_type": "code",
   "execution_count": 17,
   "id": "fe6ec786",
   "metadata": {},
   "outputs": [
    {
     "name": "stdout",
     "output_type": "stream",
     "text": [
      "Intercept: 6178645.017\n",
      "Coefficients:\n",
      " SqFtTotLiving: 199.27755304201875\n",
      " BldgGrade: 137159.5602261977\n",
      " YrBuilt: -3565.4249392492966\n",
      " Bedrooms: -51947.383673613156\n",
      " Bathrooms: 42396.16452771775\n",
      " PropertyType_Townhouse: 84479.1620330041\n",
      " SqFtFinBasement: 7.046974967553979\n",
      " PropertyType_Single Family: 22912.05518701767\n"
     ]
    }
   ],
   "source": [
    "print(f'Intercept: {best_model.intercept_:.3f}')\n",
    "print('Coefficients:')\n",
    "for name, coef in zip(best_variables, best_model.coef_):\n",
    "    print(f' {name}: {coef}')"
   ]
  },
  {
   "cell_type": "markdown",
   "id": "2fc31870",
   "metadata": {},
   "source": [
    "## Weighted regression"
   ]
  },
  {
   "cell_type": "markdown",
   "id": "23b81c2d",
   "metadata": {},
   "source": [
    "For example, with the housing data, older sales are less reliable than more recent sales. Using the DocumentDate to determine the year of the sale, we can compute a Weight as the number of years since 2005 (the beginning of the data):"
   ]
  },
  {
   "cell_type": "markdown",
   "id": "d4caa2d2",
   "metadata": {},
   "source": [
    "The first line creates a new column called 'Year' by splitting the 'DocumentDate' column on the '-' character and taking the first part, which represents the year, as an integer. The new 'Year' column is created as a list comprehension, where each element in the 'DocumentDate' column is split, and the first part is converted to an integer using the int() function.\n",
    "\n",
    "The second line does the same thing, but uses the apply() method instead of a list comprehension. The apply() method applies the lambda function lambda d: int(d.split('-')[0]) to each element in the 'DocumentDate' column, where d is the value of each element, and the result is assigned to the new 'Year' column.\n",
    "\n",
    "The third line creates a new column called 'Weight' by subtracting 2005 from the 'Year' column, which represents the number of years since 2005. This creates a continuous variable that could be used as a predictor in a regression model."
   ]
  },
  {
   "cell_type": "code",
   "execution_count": 18,
   "id": "f3dc5c47",
   "metadata": {},
   "outputs": [
    {
     "data": {
      "text/plain": [
       "1        2014-09-16\n",
       "2        2006-06-16\n",
       "3        2007-01-29\n",
       "4        2008-02-25\n",
       "5        2013-03-29\n",
       "            ...    \n",
       "27057    2011-04-08\n",
       "27058    2007-09-28\n",
       "27061    2012-07-09\n",
       "27062    2006-05-26\n",
       "27063    2007-01-09\n",
       "Name: DocumentDate, Length: 22687, dtype: object"
      ]
     },
     "execution_count": 18,
     "metadata": {},
     "output_type": "execute_result"
    }
   ],
   "source": [
    "house.DocumentDate"
   ]
  },
  {
   "cell_type": "code",
   "execution_count": 19,
   "id": "fc6566fa",
   "metadata": {
    "scrolled": false
   },
   "outputs": [
    {
     "name": "stdout",
     "output_type": "stream",
     "text": [
      "1        9\n",
      "2        1\n",
      "3        2\n",
      "4        3\n",
      "5        8\n",
      "        ..\n",
      "27057    6\n",
      "27058    2\n",
      "27061    7\n",
      "27062    1\n",
      "27063    2\n",
      "Name: Weight, Length: 22687, dtype: int64\n",
      "1        2014\n",
      "2        2006\n",
      "3        2007\n",
      "4        2008\n",
      "5        2013\n",
      "         ... \n",
      "27057    2011\n",
      "27058    2007\n",
      "27061    2012\n",
      "27062    2006\n",
      "27063    2007\n",
      "Name: Year, Length: 22687, dtype: int64\n"
     ]
    }
   ],
   "source": [
    "house['Year'] = [int(date.split('-')[0]) for date in house.DocumentDate]\n",
    "house['Year'] = house.DocumentDate.apply(lambda d: int(d.split('-')[0]))\n",
    "house['Weight'] = house.Year - 2005\n",
    "print(house['Weight'])\n",
    "print(house['Year'])"
   ]
  },
  {
   "cell_type": "markdown",
   "id": "91b03cb6",
   "metadata": {},
   "source": [
    "The code below is fitting two linear regression models to the 'house' dataset. The first model, 'house_lm', is a simple linear regression model that does not take into account any sample weights.The second model, 'house_wt', takes into account sample weights. It is fitted using the same predictors and outcome variable as 'house_lm', but the sample_weight parameter is set to 'house.Weight', which is a new column that was created in the 'house' dataframe by subtracting 2005 from the 'Year' column. The code then concatenates the coefficients and intercepts of both models into a single dataframe, which is displayed. The purpose of this is to compare the coefficients and intercepts of the two models to see if there are any significant differences due to the use of sample weights in 'house_wt'. "
   ]
  },
  {
   "cell_type": "code",
   "execution_count": 20,
   "id": "e284de46",
   "metadata": {},
   "outputs": [
    {
     "name": "stdout",
     "output_type": "stream",
     "text": [
      "LinearRegression()\n"
     ]
    }
   ],
   "source": [
    "predictors = ['SqFtTotLiving', 'SqFtLot', 'Bathrooms', \n",
    "              'Bedrooms', 'BldgGrade']\n",
    "outcome = 'AdjSalePrice'\n",
    "\n",
    "house_wt = LinearRegression()\n",
    "house_wt.fit(house[predictors], house[outcome], sample_weight=house.Weight)\n",
    "print(house_wt)\n"
   ]
  },
  {
   "cell_type": "code",
   "execution_count": 21,
   "id": "3d5aebe4",
   "metadata": {},
   "outputs": [
    {
     "data": {
      "text/html": [
       "<div>\n",
       "<style scoped>\n",
       "    .dataframe tbody tr th:only-of-type {\n",
       "        vertical-align: middle;\n",
       "    }\n",
       "\n",
       "    .dataframe tbody tr th {\n",
       "        vertical-align: top;\n",
       "    }\n",
       "\n",
       "    .dataframe thead th {\n",
       "        text-align: right;\n",
       "    }\n",
       "</style>\n",
       "<table border=\"1\" class=\"dataframe\">\n",
       "  <thead>\n",
       "    <tr style=\"text-align: right;\">\n",
       "      <th></th>\n",
       "      <th>predictor</th>\n",
       "      <th>house_lm</th>\n",
       "      <th>house_wt</th>\n",
       "    </tr>\n",
       "  </thead>\n",
       "  <tbody>\n",
       "    <tr>\n",
       "      <th>0</th>\n",
       "      <td>SqFtTotLiving</td>\n",
       "      <td>228.830604</td>\n",
       "      <td>245.024089</td>\n",
       "    </tr>\n",
       "    <tr>\n",
       "      <th>1</th>\n",
       "      <td>SqFtLot</td>\n",
       "      <td>-0.060467</td>\n",
       "      <td>-0.292415</td>\n",
       "    </tr>\n",
       "    <tr>\n",
       "      <th>2</th>\n",
       "      <td>Bathrooms</td>\n",
       "      <td>-19442.840398</td>\n",
       "      <td>-26085.970109</td>\n",
       "    </tr>\n",
       "    <tr>\n",
       "      <th>3</th>\n",
       "      <td>Bedrooms</td>\n",
       "      <td>-47769.955185</td>\n",
       "      <td>-53608.876436</td>\n",
       "    </tr>\n",
       "    <tr>\n",
       "      <th>4</th>\n",
       "      <td>BldgGrade</td>\n",
       "      <td>106106.963079</td>\n",
       "      <td>115242.434726</td>\n",
       "    </tr>\n",
       "    <tr>\n",
       "      <th>0</th>\n",
       "      <td>intercept</td>\n",
       "      <td>-521871.368188</td>\n",
       "      <td>-584189.329446</td>\n",
       "    </tr>\n",
       "  </tbody>\n",
       "</table>\n",
       "</div>"
      ],
      "text/plain": [
       "       predictor       house_lm       house_wt\n",
       "0  SqFtTotLiving     228.830604     245.024089\n",
       "1        SqFtLot      -0.060467      -0.292415\n",
       "2      Bathrooms  -19442.840398  -26085.970109\n",
       "3       Bedrooms  -47769.955185  -53608.876436\n",
       "4      BldgGrade  106106.963079  115242.434726\n",
       "0      intercept -521871.368188 -584189.329446"
      ]
     },
     "execution_count": 21,
     "metadata": {},
     "output_type": "execute_result"
    }
   ],
   "source": [
    "pd.concat([\n",
    "    pd.DataFrame({\n",
    "        'predictor': predictors,\n",
    "        'house_lm': house_lm.coef_,\n",
    "        'house_wt': house_wt.coef_,    \n",
    "    }),\n",
    "    pd.DataFrame({\n",
    "        'predictor': ['intercept'],\n",
    "        'house_lm': house_lm.intercept_,\n",
    "        'house_wt': house_wt.intercept_,    \n",
    "    })\n",
    "])"
   ]
  },
  {
   "cell_type": "code",
   "execution_count": 22,
   "id": "fbc87519",
   "metadata": {},
   "outputs": [
    {
     "name": "stdout",
     "output_type": "stream",
     "text": [
      "   abs_residual_lm  abs_residual_wt  Year\n",
      "1    123750.814194    107108.553965  2014\n",
      "2     59145.413089     96191.882094  2006\n",
      "3    190108.725716    187004.492880  2007\n",
      "4    198788.774412    196132.996857  2008\n",
      "5     91774.996129     84277.577512  2013\n"
     ]
    }
   ],
   "source": [
    "residuals = pd.DataFrame({\n",
    "    'abs_residual_lm': np.abs(house_lm.predict(house[predictors]) - house[outcome]),\n",
    "    'abs_residual_wt': np.abs(house_wt.predict(house[predictors]) - house[outcome]),\n",
    "    'Year': house['Year'],\n",
    "})\n",
    "print(residuals.head())\n"
   ]
  },
  {
   "cell_type": "code",
   "execution_count": 23,
   "id": "e3f1e2c4",
   "metadata": {
    "scrolled": true
   },
   "outputs": [
    {
     "data": {
      "text/plain": [
       "(0.0, 300000.0)"
      ]
     },
     "execution_count": 23,
     "metadata": {},
     "output_type": "execute_result"
    },
    {
     "data": {
      "image/png": "[encoded data removed]",
      "text/plain": [
       "<Figure size 1000x400 with 2 Axes>"
      ]
     },
     "metadata": {},
     "output_type": "display_data"
    }
   ],
   "source": [
    "axes = residuals.boxplot(['abs_residual_lm', 'abs_residual_wt'], by='Year', figsize=(10, 4))\n",
    "axes[0].set_ylim(0, 300000)\n",
    "\n",
    "\n"
   ]
  },
  {
   "cell_type": "code",
   "execution_count": 24,
   "id": "7ab1b77d",
   "metadata": {},
   "outputs": [
    {
     "data": {
      "text/html": [
       "<div>\n",
       "<style scoped>\n",
       "    .dataframe tbody tr th:only-of-type {\n",
       "        vertical-align: middle;\n",
       "    }\n",
       "\n",
       "    .dataframe tbody tr th {\n",
       "        vertical-align: top;\n",
       "    }\n",
       "\n",
       "    .dataframe thead th {\n",
       "        text-align: right;\n",
       "    }\n",
       "</style>\n",
       "<table border=\"1\" class=\"dataframe\">\n",
       "  <thead>\n",
       "    <tr style=\"text-align: right;\">\n",
       "      <th></th>\n",
       "      <th>Year</th>\n",
       "      <th>mean abs_residual_lm</th>\n",
       "      <th>mean abs_residual_wt</th>\n",
       "    </tr>\n",
       "  </thead>\n",
       "  <tbody>\n",
       "    <tr>\n",
       "      <th>0</th>\n",
       "      <td>2006</td>\n",
       "      <td>140540.303585</td>\n",
       "      <td>146557.454636</td>\n",
       "    </tr>\n",
       "    <tr>\n",
       "      <th>1</th>\n",
       "      <td>2007</td>\n",
       "      <td>147747.577959</td>\n",
       "      <td>152848.523235</td>\n",
       "    </tr>\n",
       "    <tr>\n",
       "      <th>2</th>\n",
       "      <td>2008</td>\n",
       "      <td>142086.905943</td>\n",
       "      <td>146360.411668</td>\n",
       "    </tr>\n",
       "    <tr>\n",
       "      <th>3</th>\n",
       "      <td>2009</td>\n",
       "      <td>147016.720883</td>\n",
       "      <td>151182.924825</td>\n",
       "    </tr>\n",
       "    <tr>\n",
       "      <th>4</th>\n",
       "      <td>2010</td>\n",
       "      <td>163267.674885</td>\n",
       "      <td>166364.476152</td>\n",
       "    </tr>\n",
       "    <tr>\n",
       "      <th>5</th>\n",
       "      <td>2011</td>\n",
       "      <td>169937.385744</td>\n",
       "      <td>172950.876028</td>\n",
       "    </tr>\n",
       "    <tr>\n",
       "      <th>6</th>\n",
       "      <td>2012</td>\n",
       "      <td>169506.670053</td>\n",
       "      <td>171874.424266</td>\n",
       "    </tr>\n",
       "    <tr>\n",
       "      <th>7</th>\n",
       "      <td>2013</td>\n",
       "      <td>203659.777510</td>\n",
       "      <td>206242.199403</td>\n",
       "    </tr>\n",
       "    <tr>\n",
       "      <th>8</th>\n",
       "      <td>2014</td>\n",
       "      <td>184452.840665</td>\n",
       "      <td>186668.573750</td>\n",
       "    </tr>\n",
       "    <tr>\n",
       "      <th>9</th>\n",
       "      <td>2015</td>\n",
       "      <td>172323.435147</td>\n",
       "      <td>169842.742053</td>\n",
       "    </tr>\n",
       "  </tbody>\n",
       "</table>\n",
       "</div>"
      ],
      "text/plain": [
       "   Year  mean abs_residual_lm  mean abs_residual_wt\n",
       "0  2006         140540.303585         146557.454636\n",
       "1  2007         147747.577959         152848.523235\n",
       "2  2008         142086.905943         146360.411668\n",
       "3  2009         147016.720883         151182.924825\n",
       "4  2010         163267.674885         166364.476152\n",
       "5  2011         169937.385744         172950.876028\n",
       "6  2012         169506.670053         171874.424266\n",
       "7  2013         203659.777510         206242.199403\n",
       "8  2014         184452.840665         186668.573750\n",
       "9  2015         172323.435147         169842.742053"
      ]
     },
     "execution_count": 24,
     "metadata": {},
     "output_type": "execute_result"
    }
   ],
   "source": [
    "# create a new DataFrame that shows the mean absolute residuals for each year, separately for the two models. \n",
    "pd.DataFrame(([year, np.mean(group['abs_residual_lm']), np.mean(group['abs_residual_wt'])] \n",
    "              for year, group in residuals.groupby('Year')),\n",
    "             columns=['Year', 'mean abs_residual_lm', 'mean abs_residual_wt'])"
   ]
  },
  {
   "cell_type": "code",
   "execution_count": 25,
   "id": "176d2660",
   "metadata": {},
   "outputs": [
    {
     "name": "stdout",
     "output_type": "stream",
     "text": [
      "2006 140540.30358478543 146557.45463555594\n",
      "2007 147747.5779586304 152848.5232346336\n",
      "2008 142086.9059427 146360.4116683415\n",
      "2009 147016.7208834004 151182.92482502622\n",
      "2010 163267.6748845873 166364.4761521068\n",
      "2011 169937.38574413778 172950.87602774086\n",
      "2012 169506.67005335895 171874.4242657243\n",
      "2013 203659.77750995316 206242.19940256965\n",
      "2014 184452.84066460092 186668.57375049713\n",
      "2015 172323.43514674628 169842.74205317328\n"
     ]
    }
   ],
   "source": [
    "for year, group in residuals.groupby('Year'):\n",
    "    print(year, np.mean(group['abs_residual_lm']), np.mean(group['abs_residual_wt']))"
   ]
  },
  {
   "cell_type": "markdown",
   "id": "05a2978c",
   "metadata": {},
   "source": [
    "# Factor variables in regression\n",
    "## Dummy Variables Representation"
   ]
  },
  {
   "cell_type": "code",
   "execution_count": 26,
   "id": "f75de0d2",
   "metadata": {},
   "outputs": [
    {
     "name": "stdout",
     "output_type": "stream",
     "text": [
      "1        Multiplex\n",
      "2    Single Family\n",
      "3    Single Family\n",
      "4    Single Family\n",
      "5    Single Family\n",
      "Name: PropertyType, dtype: object\n"
     ]
    }
   ],
   "source": [
    "print(house.PropertyType.head())\n"
   ]
  },
  {
   "cell_type": "code",
   "execution_count": 27,
   "id": "b3134350",
   "metadata": {},
   "outputs": [
    {
     "name": "stdout",
     "output_type": "stream",
     "text": [
      "   Multiplex  Single Family  Townhouse\n",
      "1          1              0          0\n",
      "2          0              1          0\n",
      "3          0              1          0\n",
      "4          0              1          0\n",
      "5          0              1          0\n",
      "6          0              0          1\n"
     ]
    }
   ],
   "source": [
    "print(pd.get_dummies(house['PropertyType']).head(6))"
   ]
  },
  {
   "cell_type": "code",
   "execution_count": 37,
   "id": "87c8022d",
   "metadata": {
    "scrolled": true
   },
   "outputs": [
    {
     "name": "stdout",
     "output_type": "stream",
     "text": [
      "   Single Family  Townhouse\n",
      "1              0          0\n",
      "2              1          0\n",
      "3              1          0\n",
      "4              1          0\n",
      "5              1          0\n",
      "6              0          1\n"
     ]
    }
   ],
   "source": [
    "print(pd.get_dummies(house['PropertyType'], drop_first=True).head(6))"
   ]
  },
  {
   "cell_type": "code",
   "execution_count": 38,
   "id": "a4e48030",
   "metadata": {},
   "outputs": [
    {
     "name": "stdout",
     "output_type": "stream",
     "text": [
      "Intercept: -446841.366\n",
      "Coefficients:\n",
      " SqFtTotLiving: 223.37362892503816\n",
      " SqFtLot: -0.07036798136811129\n",
      " Bathrooms: -15979.013473415169\n",
      " Bedrooms: -50889.73218483021\n",
      " BldgGrade: 109416.30516146177\n",
      " PropertyType_Single Family: -84678.21629549259\n",
      " PropertyType_Townhouse: -115121.9792160919\n"
     ]
    }
   ],
   "source": [
    "predictors = ['SqFtTotLiving', 'SqFtLot', 'Bathrooms', 'Bedrooms',\n",
    "              'BldgGrade', 'PropertyType']\n",
    "\n",
    "X = pd.get_dummies(house[predictors], drop_first=True)\n",
    "\n",
    "house_lm_factor = LinearRegression()\n",
    "house_lm_factor.fit(X, house[outcome])\n",
    "\n",
    "print(f'Intercept: {house_lm_factor.intercept_:.3f}')\n",
    "print('Coefficients:')\n",
    "for name, coef in zip(X.columns, house_lm_factor.coef_):\n",
    "    print(f' {name}: {coef}')\n",
    "    "
   ]
  },
  {
   "cell_type": "code",
   "execution_count": null,
   "id": "75e7d99f",
   "metadata": {},
   "outputs": [],
   "source": [
    "residuals = pd.DataFrame({\n",
    "    'abs_residual_lm': np.abs(house_lm.predict(house[predictors]) - house[outcome]),\n",
    "    'abs_residual_wt': np.abs(house_wt.predict(house[predictors]) - house[outcome]),\n",
    "    'Year': house['Year'],\n",
    "})\n",
    "print(residuals.head())\n",
    "# axes = residuals.boxplot(['abs_residual_lm', 'abs_residual_wt'], by='Year', figsize=(10, 4))\n",
    "# axes[0].set_ylim(0, 300000)\n",
    "\n",
    "pd.DataFrame(([year, np.mean(group['abs_residual_lm']), np.mean(group['abs_residual_wt'])] \n",
    "              for year, group in residuals.groupby('Year')),\n",
    "             columns=['Year', 'mean abs_residual_lm', 'mean abs_residual_wt'])\n",
    "# for year, group in residuals.groupby('Year'):\n",
    "#     print(year, np.mean(group['abs_residual_lm']), np.mean(group['abs_residual_wt']))"
   ]
  },
  {
   "cell_type": "markdown",
   "id": "303f3b8d",
   "metadata": {},
   "source": [
    "# Factor variables in regression\n",
    "## Dummy Variables Representation"
   ]
  },
  {
   "cell_type": "code",
   "execution_count": 41,
   "id": "615e0e5c",
   "metadata": {},
   "outputs": [
    {
     "name": "stdout",
     "output_type": "stream",
     "text": [
      "1        Multiplex\n",
      "2    Single Family\n",
      "3    Single Family\n",
      "4    Single Family\n",
      "5    Single Family\n",
      "Name: PropertyType, dtype: object\n"
     ]
    }
   ],
   "source": [
    "print(house.PropertyType.head())"
   ]
  },
  {
   "cell_type": "code",
   "execution_count": 42,
   "id": "43f141bd",
   "metadata": {},
   "outputs": [
    {
     "name": "stdout",
     "output_type": "stream",
     "text": [
      "   Multiplex  Single Family  Townhouse\n",
      "1          1              0          0\n",
      "2          0              1          0\n",
      "3          0              1          0\n",
      "4          0              1          0\n",
      "5          0              1          0\n",
      "6          0              0          1\n"
     ]
    }
   ],
   "source": [
    "\n",
    "print(pd.get_dummies(house['PropertyType']).head(6))"
   ]
  },
  {
   "cell_type": "code",
   "execution_count": 43,
   "id": "91b0df89",
   "metadata": {},
   "outputs": [
    {
     "name": "stdout",
     "output_type": "stream",
     "text": [
      "   Single Family  Townhouse\n",
      "1              0          0\n",
      "2              1          0\n",
      "3              1          0\n",
      "4              1          0\n",
      "5              1          0\n",
      "6              0          1\n"
     ]
    }
   ],
   "source": [
    "\n",
    "print(pd.get_dummies(house['PropertyType'], drop_first=True).head(6))"
   ]
  },
  {
   "cell_type": "code",
   "execution_count": 44,
   "id": "724bcbbf",
   "metadata": {},
   "outputs": [
    {
     "name": "stdout",
     "output_type": "stream",
     "text": [
      "Intercept: -446841.366\n",
      "Coefficients:\n",
      " SqFtTotLiving: 223.37362892503816\n",
      " SqFtLot: -0.07036798136811129\n",
      " Bathrooms: -15979.013473415169\n",
      " Bedrooms: -50889.73218483021\n",
      " BldgGrade: 109416.30516146177\n",
      " PropertyType_Single Family: -84678.21629549259\n",
      " PropertyType_Townhouse: -115121.9792160919\n"
     ]
    }
   ],
   "source": [
    "predictors = ['SqFtTotLiving', 'SqFtLot', 'Bathrooms', 'Bedrooms',\n",
    "              'BldgGrade', 'PropertyType']\n",
    "\n",
    "X = pd.get_dummies(house[predictors], drop_first=True)\n",
    "\n",
    "house_lm_factor = LinearRegression()\n",
    "house_lm_factor.fit(X, house[outcome])\n",
    "\n",
    "print(f'Intercept: {house_lm_factor.intercept_:.3f}')\n",
    "print('Coefficients:')\n",
    "for name, coef in zip(X.columns, house_lm_factor.coef_):\n",
    "    print(f' {name}: {coef}')"
   ]
  },
  {
   "cell_type": "markdown",
   "id": "e1884290",
   "metadata": {},
   "source": [
    "## Factor Variables with many levels"
   ]
  },
  {
   "cell_type": "code",
   "execution_count": 45,
   "id": "1c665dfa",
   "metadata": {},
   "outputs": [
    {
     "name": "stdout",
     "output_type": "stream",
     "text": [
      "         98038  98103  98042  98115  98117  98052  98034  98033  98059  98074  \\\n",
      "ZipCode    788    671    641    620    619    614    575    517    513    502   \n",
      "\n",
      "         ...  98051  98024  98354  98050  98057  98288  98224  98068  98113  \\\n",
      "ZipCode  ...     32     31      9      7      4      4      3      1      1   \n",
      "\n",
      "         98043  \n",
      "ZipCode      1  \n",
      "\n",
      "[1 rows x 80 columns]\n"
     ]
    }
   ],
   "source": [
    "print(pd.DataFrame(house['ZipCode'].value_counts()).transpose())"
   ]
  },
  {
   "cell_type": "code",
   "execution_count": 55,
   "id": "18ed604e",
   "metadata": {},
   "outputs": [
    {
     "name": "stdout",
     "output_type": "stream",
     "text": [
      "0    16\n",
      "1    16\n",
      "2    16\n",
      "3    16\n",
      "4    16\n",
      "Name: ZipGroup, dtype: int64\n"
     ]
    }
   ],
   "source": [
    "house = pd.read_csv('/Users/amrapaliMac/Library/CloudStorage/OneDrive-Personal/Practical statistics for data scientists practice/house_sales.csv',\n",
    "                    sep='\\t')\n",
    "\n",
    "predictors = ['SqFtTotLiving', 'SqFtLot', 'Bathrooms', \n",
    "              'Bedrooms', 'BldgGrade']\n",
    "outcome = 'AdjSalePrice'\n",
    "\n",
    "house_lm = LinearRegression()\n",
    "house_lm.fit(house[predictors], house[outcome])\n",
    "\n",
    "\n",
    "zip_groups = pd.DataFrame([\n",
    "    *pd.DataFrame({\n",
    "        'ZipCode': house['ZipCode'],\n",
    "        'residual' : house[outcome] - house_lm.predict(house[predictors]),\n",
    "    })\n",
    "    .groupby(['ZipCode'])\n",
    "    .apply(lambda x: {\n",
    "        'ZipCode': x.iloc[0,0],\n",
    "        'count': len(x),\n",
    "        'median_residual': x.residual.median()\n",
    "    })\n",
    "]).sort_values('median_residual')\n",
    "zip_groups['cum_count'] = np.cumsum(zip_groups['count'])\n",
    "zip_groups['ZipGroup'] = pd.qcut(zip_groups['cum_count'], 5, labels=False, retbins=False)\n",
    "zip_groups.head()\n",
    "print(zip_groups.ZipGroup.value_counts().sort_index())\n",
    "\n",
    "\n"
   ]
  },
  {
   "cell_type": "code",
   "execution_count": 69,
   "id": "371ab32d",
   "metadata": {},
   "outputs": [],
   "source": [
    "to_join = zip_groups[['ZipCode', 'ZipGroup']].set_index('ZipCode')\n",
    "house = house.join(to_join, on='ZipCode')\n",
    "house['ZipGroup'] = house['ZipGroup'].astype('category')"
   ]
  },
  {
   "cell_type": "markdown",
   "id": "aadbc845",
   "metadata": {},
   "source": [
    "# Interpreting the Regression Equation\n",
    "## correlated predictor"
   ]
  },
  {
   "cell_type": "code",
   "execution_count": 70,
   "id": "69b529db",
   "metadata": {
    "scrolled": true
   },
   "outputs": [
    {
     "name": "stdout",
     "output_type": "stream",
     "text": [
      "Intercept: 6178645.017\n",
      "Coefficients:\n",
      " SqFtTotLiving: 199.27755304201875\n",
      " BldgGrade: 137159.5602261977\n",
      " YrBuilt: -3565.4249392492966\n",
      " Bedrooms: -51947.383673613156\n",
      " Bathrooms: 42396.16452771775\n",
      " PropertyType_Townhouse: 84479.1620330041\n",
      " SqFtFinBasement: 7.046974967553979\n",
      " PropertyType_Single Family: 22912.05518701767\n"
     ]
    }
   ],
   "source": [
    "print(f'Intercept: {best_model.intercept_:.3f}')\n",
    "print('Coefficients:')\n",
    "for name, coef in zip(best_variables, best_model.coef_):\n",
    "    print(f' {name}: {coef}')"
   ]
  },
  {
   "cell_type": "markdown",
   "id": "2b7ffa06",
   "metadata": {},
   "source": [
    "Bedroom is negative. This implies that adding a bedroom to a house will reduce its value. How can this be? This is because the predictor variables are correlated: larger houses tend to have more bedrooms, and it is the size that drives house value, not the number of bedrooms. Consider two homes of the exact same size: it is reasonable to expect that a home with more but smaller bedrooms would be considered less desirable.\n",
    "\n",
    "Removing the variables SqFtTotLiving, SqFtFinBasement, and Bathrooms,in Python, there is no equivalent to R’s update function. We need to refit the model with the modified predictor list:"
   ]
  },
  {
   "cell_type": "code",
   "execution_count": 71,
   "id": "33d0790c",
   "metadata": {},
   "outputs": [
    {
     "name": "stdout",
     "output_type": "stream",
     "text": [
      "Intercept: 4913973.344\n",
      "Coefficients:\n",
      " Bedrooms: 27150.537230215414\n",
      " BldgGrade: 248997.79366213744\n",
      " YrBuilt: -3211.744862155145\n",
      " PropertyType_Single Family: -19898.495340502413\n",
      " PropertyType_Townhouse: -47355.43687334484\n"
     ]
    }
   ],
   "source": [
    "predictors = ['Bedrooms', 'BldgGrade', 'PropertyType', 'YrBuilt']\n",
    "outcome = 'AdjSalePrice'\n",
    "\n",
    "X = pd.get_dummies(house[predictors], drop_first=True)\n",
    "\n",
    "reduced_lm = LinearRegression()\n",
    "reduced_lm.fit(X, house[outcome])\n",
    "\n",
    "\n",
    "print(f'Intercept: {reduced_lm.intercept_:.3f}')\n",
    "print('Coefficients:')\n",
    "for name, coef in zip(X.columns, reduced_lm.coef_):\n",
    "    print(f' {name}: {coef}')"
   ]
  },
  {
   "cell_type": "markdown",
   "id": "f5dc3d01",
   "metadata": {},
   "source": [
    "## Confounding variables"
   ]
  },
  {
   "cell_type": "markdown",
   "id": "8957d23e",
   "metadata": {},
   "source": [
    " The regression coefficients of SqFtLot, Bathrooms, and Bedrooms are all negative. The original regression model does not contain a variable to represent location"
   ]
  },
  {
   "cell_type": "code",
   "execution_count": 73,
   "id": "745d28ad",
   "metadata": {},
   "outputs": [
    {
     "name": "stdout",
     "output_type": "stream",
     "text": [
      "Intercept: -666637.469\n",
      "Coefficients:\n",
      " SqFtTotLiving: 210.6126600558016\n",
      " SqFtLot: 0.45498713854658845\n",
      " Bathrooms: 5928.425640001528\n",
      " Bedrooms: -41682.87184074468\n",
      " BldgGrade: 98541.1835272597\n",
      " PropertyType_Single Family: 19323.625287919225\n",
      " PropertyType_Townhouse: -78198.72092762412\n",
      " ZipGroup_1: 53317.17330659816\n",
      " ZipGroup_2: 116251.58883563543\n",
      " ZipGroup_3: 178360.5317879337\n",
      " ZipGroup_4: 338408.60185652017\n"
     ]
    }
   ],
   "source": [
    "predictors = ['SqFtTotLiving', 'SqFtLot', 'Bathrooms', 'Bedrooms',\n",
    "              'BldgGrade', 'PropertyType', 'ZipGroup']\n",
    "outcome = 'AdjSalePrice'\n",
    "\n",
    "X = pd.get_dummies(house[predictors], drop_first=True)\n",
    "\n",
    "confounding_lm = LinearRegression()\n",
    "confounding_lm.fit(X, house[outcome])\n",
    "\n",
    "print(f'Intercept: {confounding_lm.intercept_:.3f}')\n",
    "print('Coefficients:')\n",
    "for name, coef in zip(X.columns, confounding_lm.coef_):\n",
    "    print(f' {name}: {coef}')"
   ]
  },
  {
   "cell_type": "markdown",
   "id": "50c322ee",
   "metadata": {},
   "source": [
    "The coefficients of SqFtLot and Bathrooms are now positive, and adding a bathroom increases the sale price by $5,928."
   ]
  },
  {
   "cell_type": "markdown",
   "id": "12544eb6",
   "metadata": {},
   "source": [
    "## Interactions and Main Effects"
   ]
  },
  {
   "cell_type": "markdown",
   "id": "578cbfc8",
   "metadata": {},
   "source": [
    "In Python, we need to use the statsmodels package to train linear regression models with interactions. \n",
    "The statsmodels package takes care of categorical variables (e.g., ZipGroup[T.1], PropertyType[T.Single Family]) and interaction terms (e.g., SqFtTotLiv ing:ZipGroup[T.1])."
   ]
  },
  {
   "cell_type": "code",
   "execution_count": 76,
   "id": "4cf41fda",
   "metadata": {},
   "outputs": [
    {
     "name": "stdout",
     "output_type": "stream",
     "text": [
      "                            OLS Regression Results                            \n",
      "==============================================================================\n",
      "Dep. Variable:           AdjSalePrice   R-squared:                       0.682\n",
      "Model:                            OLS   Adj. R-squared:                  0.682\n",
      "Method:                 Least Squares   F-statistic:                     3247.\n",
      "Date:                Sat, 22 Apr 2023   Prob (F-statistic):               0.00\n",
      "Time:                        11:32:05   Log-Likelihood:            -3.1098e+05\n",
      "No. Observations:               22687   AIC:                         6.220e+05\n",
      "Df Residuals:                   22671   BIC:                         6.221e+05\n",
      "Df Model:                          15                                         \n",
      "Covariance Type:            nonrobust                                         \n",
      "=================================================================================================\n",
      "                                    coef    std err          t      P>|t|      [0.025      0.975]\n",
      "-------------------------------------------------------------------------------------------------\n",
      "Intercept                     -4.853e+05   2.05e+04    -23.701      0.000   -5.25e+05   -4.45e+05\n",
      "ZipGroup[T.1]                 -1.113e+04   1.34e+04     -0.830      0.407   -3.74e+04    1.52e+04\n",
      "ZipGroup[T.2]                  2.032e+04   1.18e+04      1.717      0.086   -2877.441    4.35e+04\n",
      "ZipGroup[T.3]                   2.05e+04   1.21e+04      1.697      0.090   -3180.870    4.42e+04\n",
      "ZipGroup[T.4]                 -1.499e+05   1.13e+04    -13.285      0.000   -1.72e+05   -1.28e+05\n",
      "PropertyType[T.Single Family]  1.357e+04   1.39e+04      0.975      0.330   -1.37e+04    4.09e+04\n",
      "PropertyType[T.Townhouse]     -5.884e+04   1.51e+04     -3.888      0.000   -8.85e+04   -2.92e+04\n",
      "SqFtTotLiving                   114.7650      4.863     23.600      0.000     105.233     124.297\n",
      "SqFtTotLiving:ZipGroup[T.1]      32.6043      5.712      5.708      0.000      21.409      43.799\n",
      "SqFtTotLiving:ZipGroup[T.2]      41.7822      5.187      8.056      0.000      31.616      51.948\n",
      "SqFtTotLiving:ZipGroup[T.3]      69.3415      5.619     12.341      0.000      58.329      80.354\n",
      "SqFtTotLiving:ZipGroup[T.4]     226.6836      4.820     47.032      0.000     217.237     236.131\n",
      "SqFtLot                           0.6869      0.052     13.296      0.000       0.586       0.788\n",
      "Bathrooms                     -3619.4533   3202.296     -1.130      0.258   -9896.174    2657.267\n",
      "Bedrooms                       -4.18e+04   2120.279    -19.715      0.000    -4.6e+04   -3.76e+04\n",
      "BldgGrade                      1.047e+05   2069.472     50.592      0.000    1.01e+05    1.09e+05\n",
      "==============================================================================\n",
      "Omnibus:                    30927.394   Durbin-Watson:                   1.581\n",
      "Prob(Omnibus):                  0.000   Jarque-Bera (JB):         34361794.502\n",
      "Skew:                           7.279   Prob(JB):                         0.00\n",
      "Kurtosis:                     193.101   Cond. No.                     5.80e+05\n",
      "==============================================================================\n",
      "\n",
      "Notes:\n",
      "[1] Standard Errors assume that the covariance matrix of the errors is correctly specified.\n",
      "[2] The condition number is large, 5.8e+05. This might indicate that there are\n",
      "strong multicollinearity or other numerical problems.\n"
     ]
    }
   ],
   "source": [
    "model = smf.ols(formula='AdjSalePrice ~  SqFtTotLiving*ZipGroup + SqFtLot + ' +\n",
    "     'Bathrooms + Bedrooms + BldgGrade + PropertyType', data=house)\n",
    "results = model.fit()\n",
    "print(results.summary())"
   ]
  },
  {
   "cell_type": "markdown",
   "id": "77119afe",
   "metadata": {},
   "source": [
    "# Testing the Assumptions: Regression Diagnostics\n",
    "## Outliers"
   ]
  },
  {
   "cell_type": "code",
   "execution_count": 77,
   "id": "dc4992af",
   "metadata": {
    "scrolled": true
   },
   "outputs": [
    {
     "name": "stdout",
     "output_type": "stream",
     "text": [
      "                            OLS Regression Results                            \n",
      "==============================================================================\n",
      "Dep. Variable:           AdjSalePrice   R-squared:                       0.795\n",
      "Model:                            OLS   Adj. R-squared:                  0.792\n",
      "Method:                 Least Squares   F-statistic:                     238.7\n",
      "Date:                Sat, 22 Apr 2023   Prob (F-statistic):          1.69e-103\n",
      "Time:                        12:09:34   Log-Likelihood:                -4226.0\n",
      "No. Observations:                 313   AIC:                             8464.\n",
      "Df Residuals:                     307   BIC:                             8486.\n",
      "Df Model:                           5                                         \n",
      "Covariance Type:            nonrobust                                         \n",
      "=================================================================================\n",
      "                    coef    std err          t      P>|t|      [0.025      0.975]\n",
      "---------------------------------------------------------------------------------\n",
      "SqFtTotLiving   209.6023     24.408      8.587      0.000     161.574     257.631\n",
      "SqFtLot          38.9333      5.330      7.305      0.000      28.445      49.421\n",
      "Bathrooms      2282.2641      2e+04      0.114      0.909    -3.7e+04    4.16e+04\n",
      "Bedrooms      -2.632e+04   1.29e+04     -2.043      0.042   -5.17e+04    -973.867\n",
      "BldgGrade        1.3e+05   1.52e+04      8.533      0.000       1e+05     1.6e+05\n",
      "const         -7.725e+05   9.83e+04     -7.861      0.000   -9.66e+05   -5.79e+05\n",
      "==============================================================================\n",
      "Omnibus:                       82.127   Durbin-Watson:                   1.508\n",
      "Prob(Omnibus):                  0.000   Jarque-Bera (JB):              586.561\n",
      "Skew:                           0.859   Prob(JB):                    4.26e-128\n",
      "Kurtosis:                       9.483   Cond. No.                     5.63e+04\n",
      "==============================================================================\n",
      "\n",
      "Notes:\n",
      "[1] Standard Errors assume that the covariance matrix of the errors is correctly specified.\n",
      "[2] The condition number is large, 5.63e+04. This might indicate that there are\n",
      "strong multicollinearity or other numerical problems.\n"
     ]
    }
   ],
   "source": [
    "# The above code is fitting an Ordinary Least Squares (OLS) model on a subset of the house dataframe where the ZipCode is equal to 98105.\n",
    "house_98105 = house.loc[house['ZipCode'] == 98105, ]\n",
    "\n",
    "predictors = ['SqFtTotLiving', 'SqFtLot', 'Bathrooms', 'Bedrooms',\n",
    "              'BldgGrade']\n",
    "outcome = 'AdjSalePrice'\n",
    "\n",
    "house_outlier = sm.OLS(house_98105[outcome], house_98105[predictors].assign(const=1))\n",
    "result_98105 = house_outlier.fit()\n",
    "print(result_98105.summary())"
   ]
  },
  {
   "cell_type": "markdown",
   "id": "d618e129",
   "metadata": {},
   "source": [
    "The first line creates an instance of the OLSInfluence class from the statsmodels library, which is used to compute influence and outlier measures for a linear regression model. The result_98105 object is passed as an argument to the constructor of OLSInfluence, which sets up the necessary data structures to compute the influence measures.\n",
    "\n",
    "The second line computes the minimum studentized residual and its index from the sresiduals array, which contains the internally studentized residuals for the model. The idxmin() method returns the index of the smallest value in the sresiduals array, and the min() method returns the corresponding value.\n",
    "\n",
    "In other words, the second line is finding the observation in the data set with the smallest internally studentized residual, which is a measure of how unusual or extreme the residual is relative to the rest of the data set after adjusting for leverage and other factors. This observation is a potential outlier that may be worth investigating further."
   ]
  },
  {
   "cell_type": "code",
   "execution_count": 78,
   "id": "a249520a",
   "metadata": {},
   "outputs": [
    {
     "data": {
      "text/plain": [
       "(24333, -4.326731804078564)"
      ]
     },
     "execution_count": 78,
     "metadata": {},
     "output_type": "execute_result"
    }
   ],
   "source": [
    "# In statsmodels, use OLSInfluence to analyze the residuals:\n",
    "# The OLSInfluence class is initialized with the OLS regression results and gives access to a number of usefule properties. Here we use the studentized residuals.\n",
    "influence = OLSInfluence(result_98105)\n",
    "sresiduals = influence.resid_studentized_internal\n",
    "sresiduals.idxmin(), sresiduals.min()"
   ]
  },
  {
   "cell_type": "markdown",
   "id": "86eeeebc",
   "metadata": {},
   "source": [
    "The biggest overestimate from the model is more than four standard errors above the regression line, corresponding to an overestimate of $757,754. \n",
    "The resid attribute of a OLSResults object contains the residuals of the regression. To print the residual corresponding to the observation with the smallest studentized residual, you can use the following code:"
   ]
  },
  {
   "cell_type": "code",
   "execution_count": 79,
   "id": "8d178ebe",
   "metadata": {
    "scrolled": false
   },
   "outputs": [
    {
     "name": "stdout",
     "output_type": "stream",
     "text": [
      "-757753.6192115829\n"
     ]
    }
   ],
   "source": [
    "print(result_98105.resid.loc[sresiduals.idxmin()])"
   ]
  },
  {
   "cell_type": "code",
   "execution_count": 80,
   "id": "01f4559b",
   "metadata": {
    "scrolled": true
   },
   "outputs": [
    {
     "name": "stdout",
     "output_type": "stream",
     "text": [
      "AdjSalePrice 119748.0\n",
      "SqFtTotLiving    2900\n",
      "SqFtLot          7276\n",
      "Bathrooms         3.0\n",
      "Bedrooms            6\n",
      "BldgGrade           7\n",
      "Name: 24333, dtype: object\n"
     ]
    }
   ],
   "source": [
    "outlier = house_98105.loc[sresiduals.idxmin(), :]\n",
    "print('AdjSalePrice', outlier[outcome])\n",
    "print(outlier[predictors])"
   ]
  },
  {
   "cell_type": "markdown",
   "id": "6d918711",
   "metadata": {},
   "source": [
    "In this case, it appears that there is something wrong with the record: a house of that size typically sells for much more than $119,748 in that zip code. Figure 4-4 shows an excerpt from the statutory deed from this sale: it is clear that the sale involved only partial interest in the property. In this case, the outlier corresponds to a sale that is anomalous and should not be included in the regression. "
   ]
  },
  {
   "cell_type": "markdown",
   "id": "ad2c827b",
   "metadata": {},
   "source": [
    "## Influential values"
   ]
  },
  {
   "cell_type": "code",
   "execution_count": 81,
   "id": "978346ac",
   "metadata": {},
   "outputs": [
    {
     "data": {
      "image/png": "[encoded data removed]",
      "text/plain": [
       "<Figure size 400x400 with 1 Axes>"
      ]
     },
     "metadata": {},
     "output_type": "display_data"
    }
   ],
   "source": [
    "%matplotlib inline\n",
    "from scipy.stats import linregress\n",
    "\n",
    "np.random.seed(5)\n",
    "x = np.random.normal(size=25)\n",
    "y = -x / 5 + np.random.normal(size=25)\n",
    "x[0] = 8\n",
    "y[0] = 8\n",
    "\n",
    "def abline(slope, intercept, ax):\n",
    "    \"\"\"Calculate coordinates of a line based on slope and intercept\"\"\"\n",
    "    x_vals = np.array(ax.get_xlim())\n",
    "    return (x_vals, intercept + slope * x_vals)\n",
    "\n",
    "fig, ax = plt.subplots(figsize=(4, 4))\n",
    "ax.scatter(x, y)\n",
    "slope, intercept, _, _, _ = linregress(x, y)\n",
    "ax.plot(*abline(slope, intercept, ax))\n",
    "slope, intercept, _, _, _ = linregress(x[1:], y[1:])\n",
    "ax.plot(*abline(slope, intercept, ax), '--')\n",
    "ax.set_xlim(-2.5, 8.5)\n",
    "ax.set_ylim(-2.5, 8.5)\n",
    "\n",
    "plt.tight_layout()\n",
    "plt.show()"
   ]
  },
  {
   "cell_type": "markdown",
   "id": "fcf95af9",
   "metadata": {},
   "source": [
    "The package statsmodel provides a number of plots to analyze the data point influence"
   ]
  },
  {
   "cell_type": "code",
   "execution_count": 82,
   "id": "90cc4ea8",
   "metadata": {},
   "outputs": [
    {
     "data": {
      "image/png": "[encoded data removed]",
      "text/plain": [
       "<Figure size 500x500 with 1 Axes>"
      ]
     },
     "metadata": {},
     "output_type": "display_data"
    }
   ],
   "source": [
    "influence = OLSInfluence(result_98105)\n",
    "fig, ax = plt.subplots(figsize=(5, 5))\n",
    "ax.axhline(-2.5, linestyle='--', color='C1')\n",
    "ax.axhline(2.5, linestyle='--', color='C1')\n",
    "ax.scatter(influence.hat_matrix_diag, influence.resid_studentized_internal, \n",
    "           s=1000 * np.sqrt(influence.cooks_distance[0]),\n",
    "           alpha=0.5)\n",
    "\n",
    "ax.set_xlabel('hat values')\n",
    "ax.set_ylabel('studentized residuals')\n",
    "\n",
    "plt.tight_layout()\n",
    "plt.show()"
   ]
  },
  {
   "cell_type": "code",
   "execution_count": 83,
   "id": "f67532c4",
   "metadata": {},
   "outputs": [
    {
     "data": {
      "text/html": [
       "<div>\n",
       "<style scoped>\n",
       "    .dataframe tbody tr th:only-of-type {\n",
       "        vertical-align: middle;\n",
       "    }\n",
       "\n",
       "    .dataframe tbody tr th {\n",
       "        vertical-align: top;\n",
       "    }\n",
       "\n",
       "    .dataframe thead th {\n",
       "        text-align: right;\n",
       "    }\n",
       "</style>\n",
       "<table border=\"1\" class=\"dataframe\">\n",
       "  <thead>\n",
       "    <tr style=\"text-align: right;\">\n",
       "      <th></th>\n",
       "      <th>Original</th>\n",
       "      <th>Influential removed</th>\n",
       "    </tr>\n",
       "  </thead>\n",
       "  <tbody>\n",
       "    <tr>\n",
       "      <th>SqFtTotLiving</th>\n",
       "      <td>209.602346</td>\n",
       "      <td>230.052569</td>\n",
       "    </tr>\n",
       "    <tr>\n",
       "      <th>SqFtLot</th>\n",
       "      <td>38.933315</td>\n",
       "      <td>33.141600</td>\n",
       "    </tr>\n",
       "    <tr>\n",
       "      <th>Bathrooms</th>\n",
       "      <td>2282.264145</td>\n",
       "      <td>-16131.879785</td>\n",
       "    </tr>\n",
       "    <tr>\n",
       "      <th>Bedrooms</th>\n",
       "      <td>-26320.268796</td>\n",
       "      <td>-22887.865318</td>\n",
       "    </tr>\n",
       "    <tr>\n",
       "      <th>BldgGrade</th>\n",
       "      <td>130000.099737</td>\n",
       "      <td>114870.559737</td>\n",
       "    </tr>\n",
       "    <tr>\n",
       "      <th>const</th>\n",
       "      <td>-772549.862447</td>\n",
       "      <td>-647137.096716</td>\n",
       "    </tr>\n",
       "  </tbody>\n",
       "</table>\n",
       "</div>"
      ],
      "text/plain": [
       "                    Original  Influential removed\n",
       "SqFtTotLiving     209.602346           230.052569\n",
       "SqFtLot            38.933315            33.141600\n",
       "Bathrooms        2282.264145        -16131.879785\n",
       "Bedrooms       -26320.268796        -22887.865318\n",
       "BldgGrade      130000.099737        114870.559737\n",
       "const         -772549.862447       -647137.096716"
      ]
     },
     "execution_count": 83,
     "metadata": {},
     "output_type": "execute_result"
    }
   ],
   "source": [
    "mask = [dist < .08 for dist in influence.cooks_distance[0]]\n",
    "house_infl = house_98105.loc[mask]\n",
    "\n",
    "ols_infl = sm.OLS(house_infl[outcome], house_infl[predictors].assign(const=1))\n",
    "result_infl = ols_infl.fit()\n",
    "\n",
    "pd.DataFrame({\n",
    "    'Original': result_98105.params,\n",
    "    'Influential removed': result_infl.params,\n",
    "})"
   ]
  },
  {
   "cell_type": "markdown",
   "id": "55159df9",
   "metadata": {},
   "source": [
    "# Heteroskedasticity, Non-Normality and Correlated Errors"
   ]
  },
  {
   "cell_type": "markdown",
   "id": "7831f9a4",
   "metadata": {},
   "source": [
    "The regplot in seaborn allows adding a lowess smoothing line to the scatterplot"
   ]
  },
  {
   "cell_type": "code",
   "execution_count": 84,
   "id": "09fbcb83",
   "metadata": {},
   "outputs": [
    {
     "data": {
      "image/png": "[encoded data removed]",
      "text/plain": [
       "<Figure size 500x500 with 1 Axes>"
      ]
     },
     "metadata": {},
     "output_type": "display_data"
    }
   ],
   "source": [
    "fig, ax = plt.subplots(figsize=(5, 5))\n",
    "sns.regplot(x=result_98105.fittedvalues, y=np.abs(result_98105.resid), \n",
    "            scatter_kws={'alpha': 0.25},\n",
    "            line_kws={'color': 'C1'},\n",
    "            lowess=True, ax=ax)\n",
    "ax.set_xlabel('predicted')\n",
    "ax.set_ylabel('abs(residual)')\n",
    "\n",
    "plt.tight_layout()\n",
    "plt.show()"
   ]
  },
  {
   "cell_type": "code",
   "execution_count": 85,
   "id": "e2bc570e",
   "metadata": {},
   "outputs": [
    {
     "data": {
      "image/png": "[encoded data removed]",
      "text/plain": [
       "<Figure size 400x400 with 1 Axes>"
      ]
     },
     "metadata": {},
     "output_type": "display_data"
    }
   ],
   "source": [
    "fig, ax = plt.subplots(figsize=(4, 4))\n",
    "pd.Series(influence.resid_studentized_internal).hist(ax=ax)\n",
    "ax.set_xlabel('std. residual')\n",
    "ax.set_ylabel('Frequency')\n",
    "\n",
    "\n",
    "plt.tight_layout()\n",
    "plt.show()"
   ]
  },
  {
   "cell_type": "markdown",
   "id": "c343dcca",
   "metadata": {},
   "source": [
    "# Partial Residual Plots and Nonlinearity"
   ]
  },
  {
   "cell_type": "code",
   "execution_count": null,
   "id": "7850b07f",
   "metadata": {},
   "outputs": [],
   "source": [
    "fig, ax = plt.subplots(figsize=(5, 5))\n",
    "fig = sm.graphics.plot_ccpr(result_98105, 'SqFtTotLiving', ax=ax)\n",
    "\n",
    "plt.tight_layout()\n",
    "plt.show()"
   ]
  },
  {
   "cell_type": "code",
   "execution_count": null,
   "id": "350710ea",
   "metadata": {},
   "outputs": [],
   "source": [
    "fig = plt.figure(figsize=(8, 12))\n",
    "fig = sm.graphics.plot_ccpr_grid(result_98105, fig=fig)"
   ]
  },
  {
   "cell_type": "markdown",
   "id": "ce2ee18f",
   "metadata": {},
   "source": [
    "# Polynomial and Spline Regression"
   ]
  },
  {
   "cell_type": "code",
   "execution_count": 86,
   "id": "2f2b53fd",
   "metadata": {},
   "outputs": [
    {
     "name": "stdout",
     "output_type": "stream",
     "text": [
      "                            OLS Regression Results                            \n",
      "==============================================================================\n",
      "Dep. Variable:           AdjSalePrice   R-squared:                       0.806\n",
      "Model:                            OLS   Adj. R-squared:                  0.802\n",
      "Method:                 Least Squares   F-statistic:                     211.6\n",
      "Date:                Sat, 22 Apr 2023   Prob (F-statistic):          9.95e-106\n",
      "Time:                        21:08:53   Log-Likelihood:                -4217.9\n",
      "No. Observations:                 313   AIC:                             8450.\n",
      "Df Residuals:                     306   BIC:                             8476.\n",
      "Df Model:                           6                                         \n",
      "Covariance Type:            nonrobust                                         \n",
      "==============================================================================================\n",
      "                                 coef    std err          t      P>|t|      [0.025      0.975]\n",
      "----------------------------------------------------------------------------------------------\n",
      "Intercept                  -6.159e+05   1.03e+05     -5.953      0.000   -8.19e+05   -4.12e+05\n",
      "SqFtTotLiving                  7.4521     55.418      0.134      0.893    -101.597     116.501\n",
      "np.power(SqFtTotLiving, 2)     0.0388      0.010      4.040      0.000       0.020       0.058\n",
      "SqFtLot                       32.5594      5.436      5.990      0.000      21.863      43.256\n",
      "Bathrooms                  -1435.1231   1.95e+04     -0.074      0.941   -3.99e+04     3.7e+04\n",
      "Bedrooms                   -9191.9441   1.33e+04     -0.693      0.489   -3.53e+04    1.69e+04\n",
      "BldgGrade                   1.357e+05   1.49e+04      9.087      0.000    1.06e+05    1.65e+05\n",
      "==============================================================================\n",
      "Omnibus:                       75.161   Durbin-Watson:                   1.625\n",
      "Prob(Omnibus):                  0.000   Jarque-Bera (JB):              637.978\n",
      "Skew:                           0.699   Prob(JB):                    2.92e-139\n",
      "Kurtosis:                       9.853   Cond. No.                     7.37e+07\n",
      "==============================================================================\n",
      "\n",
      "Notes:\n",
      "[1] Standard Errors assume that the covariance matrix of the errors is correctly specified.\n",
      "[2] The condition number is large, 7.37e+07. This might indicate that there are\n",
      "strong multicollinearity or other numerical problems.\n"
     ]
    }
   ],
   "source": [
    "model_poly = smf.ols(formula='AdjSalePrice ~  SqFtTotLiving + np.power(SqFtTotLiving, 2) + ' + \n",
    "                'SqFtLot + Bathrooms + Bedrooms + BldgGrade', data=house_98105)\n",
    "result_poly = model_poly.fit()\n",
    "print(result_poly.summary())"
   ]
  },
  {
   "cell_type": "markdown",
   "id": "6265ec38",
   "metadata": {},
   "source": [
    "The statsmodels implementation of a partial residual plot works only for linear term. Here is an implementation of a partial residual plot that, while inefficient, works for the polynomial regression."
   ]
  },
  {
   "cell_type": "code",
   "execution_count": 87,
   "id": "94ce701d",
   "metadata": {},
   "outputs": [
    {
     "data": {
      "image/png": "[encoded data removed]",
      "text/plain": [
       "<Figure size 500x500 with 1 Axes>"
      ]
     },
     "metadata": {},
     "output_type": "display_data"
    },
    {
     "name": "stdout",
     "output_type": "stream",
     "text": [
      "0.0387912816823115\n"
     ]
    }
   ],
   "source": [
    "def partialResidualPlot(model, df, outcome, feature, ax):\n",
    "    y_pred = model.predict(df)\n",
    "    copy_df = df.copy()\n",
    "    for c in copy_df.columns:\n",
    "        if c == feature:\n",
    "            continue\n",
    "        copy_df[c] = 0.0\n",
    "    feature_prediction = model.predict(copy_df)\n",
    "    results = pd.DataFrame({\n",
    "        'feature': df[feature],\n",
    "        'residual': df[outcome] - y_pred,\n",
    "        'ypartial': feature_prediction - model.params[0],\n",
    "    })\n",
    "    results = results.sort_values(by=['feature'])\n",
    "    smoothed = sm.nonparametric.lowess(results.ypartial, results.feature, frac=1/3)\n",
    "    \n",
    "    ax.scatter(results.feature, results.ypartial + results.residual)\n",
    "    ax.plot(smoothed[:, 0], smoothed[:, 1], color='gray')\n",
    "    ax.plot(results.feature, results.ypartial, color='black')\n",
    "    ax.set_xlabel(feature)\n",
    "    ax.set_ylabel(f'Residual + {feature} contribution')\n",
    "    return ax\n",
    "\n",
    "fig, ax = plt.subplots(figsize=(5, 5))\n",
    "partialResidualPlot(result_poly, house_98105, 'AdjSalePrice', 'SqFtTotLiving', ax)\n",
    "\n",
    "plt.tight_layout()\n",
    "plt.show()\n",
    "print(result_poly.params[2])"
   ]
  },
  {
   "cell_type": "markdown",
   "id": "a128543d",
   "metadata": {},
   "source": [
    "## Splines"
   ]
  },
  {
   "cell_type": "code",
   "execution_count": 88,
   "id": "560db668",
   "metadata": {},
   "outputs": [
    {
     "name": "stdout",
     "output_type": "stream",
     "text": [
      "                            OLS Regression Results                            \n",
      "==============================================================================\n",
      "Dep. Variable:           AdjSalePrice   R-squared:                       0.814\n",
      "Model:                            OLS   Adj. R-squared:                  0.807\n",
      "Method:                 Least Squares   F-statistic:                     131.8\n",
      "Date:                Sat, 22 Apr 2023   Prob (F-statistic):          7.10e-104\n",
      "Time:                        21:09:15   Log-Likelihood:                -4211.4\n",
      "No. Observations:                 313   AIC:                             8445.\n",
      "Df Residuals:                     302   BIC:                             8486.\n",
      "Df Model:                          10                                         \n",
      "Covariance Type:            nonrobust                                         \n",
      "========================================================================================================\n",
      "                                           coef    std err          t      P>|t|      [0.025      0.975]\n",
      "--------------------------------------------------------------------------------------------------------\n",
      "Intercept                            -4.142e+05   1.43e+05     -2.899      0.004   -6.95e+05   -1.33e+05\n",
      "bs(SqFtTotLiving, df=6, degree=3)[0] -1.995e+05   1.86e+05     -1.076      0.283   -5.65e+05    1.66e+05\n",
      "bs(SqFtTotLiving, df=6, degree=3)[1] -1.206e+05   1.23e+05     -0.983      0.326   -3.62e+05    1.21e+05\n",
      "bs(SqFtTotLiving, df=6, degree=3)[2] -7.164e+04   1.36e+05     -0.525      0.600    -3.4e+05    1.97e+05\n",
      "bs(SqFtTotLiving, df=6, degree=3)[3]  1.957e+05   1.62e+05      1.212      0.227   -1.22e+05    5.14e+05\n",
      "bs(SqFtTotLiving, df=6, degree=3)[4]  8.452e+05   2.18e+05      3.878      0.000    4.16e+05    1.27e+06\n",
      "bs(SqFtTotLiving, df=6, degree=3)[5]  6.955e+05   2.14e+05      3.255      0.001    2.75e+05    1.12e+06\n",
      "SqFtLot                                 33.3258      5.454      6.110      0.000      22.592      44.059\n",
      "Bathrooms                            -4778.2080   1.94e+04     -0.246      0.806    -4.3e+04    3.34e+04\n",
      "Bedrooms                             -5778.7045   1.32e+04     -0.437      0.663   -3.18e+04    2.03e+04\n",
      "BldgGrade                             1.345e+05   1.52e+04      8.842      0.000    1.05e+05    1.64e+05\n",
      "==============================================================================\n",
      "Omnibus:                       58.816   Durbin-Watson:                   1.633\n",
      "Prob(Omnibus):                  0.000   Jarque-Bera (JB):              622.021\n",
      "Skew:                           0.330   Prob(JB):                    8.51e-136\n",
      "Kurtosis:                       9.874   Cond. No.                     1.97e+05\n",
      "==============================================================================\n",
      "\n",
      "Notes:\n",
      "[1] Standard Errors assume that the covariance matrix of the errors is correctly specified.\n",
      "[2] The condition number is large, 1.97e+05. This might indicate that there are\n",
      "strong multicollinearity or other numerical problems.\n"
     ]
    }
   ],
   "source": [
    "formula = ('AdjSalePrice ~ bs(SqFtTotLiving, df=6, degree=3) + ' + \n",
    "           'SqFtLot + Bathrooms + Bedrooms + BldgGrade')\n",
    "model_spline = smf.ols(formula=formula, data=house_98105)\n",
    "result_spline = model_spline.fit()\n",
    "print(result_spline.summary())"
   ]
  },
  {
   "cell_type": "code",
   "execution_count": 89,
   "id": "77151a59",
   "metadata": {
    "scrolled": true
   },
   "outputs": [
    {
     "data": {
      "image/png": "[encoded data removed]",
      "text/plain": [
       "<Figure size 500x500 with 1 Axes>"
      ]
     },
     "metadata": {},
     "output_type": "display_data"
    }
   ],
   "source": [
    "fig, ax = plt.subplots(figsize=(5, 5))\n",
    "partialResidualPlot(result_spline, house_98105, 'AdjSalePrice', 'SqFtTotLiving', ax)\n",
    "\n",
    "plt.tight_layout()\n",
    "plt.show()"
   ]
  },
  {
   "cell_type": "markdown",
   "id": "2a03cc89",
   "metadata": {},
   "source": [
    "# Generalized Additive Models"
   ]
  },
  {
   "cell_type": "code",
   "execution_count": 90,
   "id": "7c8f9369",
   "metadata": {},
   "outputs": [
    {
     "name": "stderr",
     "output_type": "stream",
     "text": [
      "100% (11 of 11) |########################| Elapsed Time: 0:00:00 Time:  0:00:00\n"
     ]
    },
    {
     "name": "stdout",
     "output_type": "stream",
     "text": [
      "LinearGAM                                                                                                 \n",
      "=============================================== ==========================================================\n",
      "Distribution:                        NormalDist Effective DoF:                                      7.6772\n",
      "Link Function:                     IdentityLink Log Likelihood:                                 -7833.1159\n",
      "Number of Samples:                          313 AIC:                                            15683.5863\n",
      "                                                AICc:                                             15684.14\n",
      "                                                GCV:                                      30838885095.1676\n",
      "                                                Scale:                                    29480381715.8292\n",
      "                                                Pseudo R-Squared:                                   0.8117\n",
      "==========================================================================================================\n",
      "Feature Function                  Lambda               Rank         EDoF         P > x        Sig. Code   \n",
      "================================= ==================== ============ ============ ============ ============\n",
      "s(0)                              [15.8489]            12           4.3          1.11e-16     ***         \n",
      "l(1)                              [15.8489]            1            0.9          2.35e-10     ***         \n",
      "l(2)                              [15.8489]            1            0.8          8.45e-01                 \n",
      "l(3)                              [15.8489]            1            0.9          3.79e-01                 \n",
      "l(4)                              [15.8489]            1            0.8          1.11e-16     ***         \n",
      "intercept                                              1            0.0          9.14e-01                 \n",
      "==========================================================================================================\n",
      "Significance codes:  0 '***' 0.001 '**' 0.01 '*' 0.05 '.' 0.1 ' ' 1\n",
      "\n",
      "WARNING: Fitting splines and a linear function to a feature introduces a model identifiability problem\n",
      "         which can cause p-values to appear significant when they are not.\n",
      "\n",
      "WARNING: p-values calculated in this manner behave correctly for un-penalized models or models with\n",
      "         known smoothing parameters, but when smoothing parameters have been estimated, the p-values\n",
      "         are typically lower than they should be, meaning that the tests reject the null too readily.\n",
      "None\n"
     ]
    },
    {
     "name": "stderr",
     "output_type": "stream",
     "text": [
      "/var/folders/80/ghdt2w012_x2yg018vx45m300000gn/T/ipykernel_43856/661170992.py:10: UserWarning: KNOWN BUG: p-values computed in this summary are likely much smaller than they should be. \n",
      " \n",
      "Please do not make inferences based on these values! \n",
      "\n",
      "Collaborate on a solution, and stay up to date at: \n",
      "github.com/dswah/pyGAM/issues/163 \n",
      "\n",
      "  print(gam.summary())\n"
     ]
    }
   ],
   "source": [
    "predictors = ['SqFtTotLiving', 'SqFtLot', 'Bathrooms', \n",
    "              'Bedrooms', 'BldgGrade']\n",
    "outcome = 'AdjSalePrice'\n",
    "X = house_98105[predictors].values\n",
    "y = house_98105[outcome]\n",
    "\n",
    "## model\n",
    "gam = LinearGAM(s(0, n_splines=12) + l(1) + l(2) + l(3) + l(4))\n",
    "gam.gridsearch(X, y)\n",
    "print(gam.summary())"
   ]
  },
  {
   "cell_type": "code",
   "execution_count": 91,
   "id": "c97c3fd0",
   "metadata": {},
   "outputs": [
    {
     "data": {
      "image/png": "[encoded data removed]",
      "text/plain": [
       "<Figure size 800x800 with 6 Axes>"
      ]
     },
     "metadata": {},
     "output_type": "display_data"
    }
   ],
   "source": [
    "fig, axes = plt.subplots(figsize=(8, 8), ncols=2, nrows=3)\n",
    "\n",
    "titles = ['SqFtTotLiving', 'SqFtLot', 'Bathrooms', 'Bedrooms', 'BldgGrade']\n",
    "for i, title in enumerate(titles):\n",
    "    ax = axes[i // 2, i % 2]\n",
    "    XX = gam.generate_X_grid(term=i)\n",
    "    ax.plot(XX[:, i], gam.partial_dependence(term=i, X=XX))\n",
    "    ax.plot(XX[:, i], gam.partial_dependence(term=i, X=XX, width=.95)[1], c='r', ls='--')\n",
    "    ax.set_title(titles[i]);\n",
    "    \n",
    "axes[2][1].set_visible(False)\n",
    "\n",
    "plt.tight_layout()\n",
    "plt.show()"
   ]
  },
  {
   "cell_type": "markdown",
   "id": "eb902090",
   "metadata": {},
   "source": [
    "# Regularization\n",
    "## Lasso"
   ]
  },
  {
   "cell_type": "code",
   "execution_count": 92,
   "id": "4359dfa9",
   "metadata": {},
   "outputs": [],
   "source": [
    "from sklearn.linear_model import Lasso, LassoLars, LassoCV, LassoLarsCV\n",
    "from sklearn.preprocessing import StandardScaler"
   ]
  },
  {
   "cell_type": "code",
   "execution_count": 94,
   "id": "4c6e3597",
   "metadata": {},
   "outputs": [
    {
     "name": "stdout",
     "output_type": "stream",
     "text": [
      "   AdjSalePrice  SqFtTotLiving  SqFtLot  Bathrooms  Bedrooms  BldgGrade\n",
      "1      300805.0           2400     9373       3.00         6          7\n",
      "2     1076162.0           3764    20156       3.75         4         10\n",
      "3      761805.0           2060    26036       1.75         4          8\n",
      "4      442065.0           3200     8618       3.75         5          7\n",
      "5      297065.0           1720     8620       1.75         4          7\n"
     ]
    }
   ],
   "source": [
    "subset = ['AdjSalePrice', 'SqFtTotLiving', 'SqFtLot', 'Bathrooms', \n",
    "          'Bedrooms', 'BldgGrade']\n",
    "\n",
    "house = pd.read_csv('/Users/amrapaliMac/Library/CloudStorage/OneDrive-Personal/Practical statistics for data scientists practice/house_sales.csv',\n",
    "                    sep='\\t')\n",
    "print(house[subset].head())"
   ]
  },
  {
   "cell_type": "code",
   "execution_count": 95,
   "id": "1baff953",
   "metadata": {},
   "outputs": [
    {
     "name": "stdout",
     "output_type": "stream",
     "text": [
      "LinearRegression()\n"
     ]
    }
   ],
   "source": [
    "predictors = ['SqFtTotLiving', 'SqFtLot', 'Bathrooms', 'Bedrooms',\n",
    "              'BldgGrade', 'PropertyType', 'NbrLivingUnits',\n",
    "              'SqFtFinBasement', 'YrBuilt', 'YrRenovated', \n",
    "              'NewConstruction']\n",
    "outcome = 'AdjSalePrice'\n",
    "\n",
    "X = pd.get_dummies(house[predictors], drop_first=True)\n",
    "X['NewConstruction'] = [1 if nc else 0 for nc in X['NewConstruction']]\n",
    "columns = X.columns\n",
    "# X = StandardScaler().fit_transform(X * 1.0)\n",
    "y = house[outcome]\n",
    "\n",
    "house_lm = LinearRegression()\n",
    "print(house_lm.fit(X, y))"
   ]
  },
  {
   "cell_type": "code",
   "execution_count": 96,
   "id": "6cea3330",
   "metadata": {},
   "outputs": [
    {
     "name": "stdout",
     "output_type": "stream",
     "text": [
      "Lasso(alpha=10)\n"
     ]
    }
   ],
   "source": [
    "house_lasso = Lasso(alpha=10)\n",
    "print(house_lasso.fit(X, y))"
   ]
  },
  {
   "cell_type": "code",
   "execution_count": 97,
   "id": "6c44c85b",
   "metadata": {},
   "outputs": [
    {
     "data": {
      "image/png": "[encoded data removed]",
      "text/plain": [
       "<Figure size 640x480 with 1 Axes>"
      ]
     },
     "metadata": {},
     "output_type": "display_data"
    }
   ],
   "source": [
    "Method = LassoLars\n",
    "MethodCV = LassoLarsCV\n",
    "Method = Lasso\n",
    "MethodCV = LassoCV\n",
    "\n",
    "alpha_values = []\n",
    "results = []\n",
    "for alpha in [0.001, 0.01, 0.1, 1, 10, 100, 1000, 10000, 100000, 1000000, 10000000]:\n",
    "    model = Method(alpha=alpha)\n",
    "    model.fit(X, y)\n",
    "    alpha_values.append(alpha)\n",
    "    results.append(model.coef_)\n",
    "modelCV = MethodCV(cv=5)\n",
    "modelCV.fit(X, y)\n",
    "ax = pd.DataFrame(results, index=alpha_values, columns=columns).plot(logx=True, legend=False)\n",
    "ax.axvline(modelCV.alpha_)\n",
    "plt.show()"
   ]
  },
  {
   "cell_type": "code",
   "execution_count": 98,
   "id": "89d3cef7",
   "metadata": {},
   "outputs": [
    {
     "data": {
      "text/html": [
       "<div>\n",
       "<style scoped>\n",
       "    .dataframe tbody tr th:only-of-type {\n",
       "        vertical-align: middle;\n",
       "    }\n",
       "\n",
       "    .dataframe tbody tr th {\n",
       "        vertical-align: top;\n",
       "    }\n",
       "\n",
       "    .dataframe thead th {\n",
       "        text-align: right;\n",
       "    }\n",
       "</style>\n",
       "<table border=\"1\" class=\"dataframe\">\n",
       "  <thead>\n",
       "    <tr style=\"text-align: right;\">\n",
       "      <th></th>\n",
       "      <th>name</th>\n",
       "      <th>coef</th>\n",
       "    </tr>\n",
       "  </thead>\n",
       "  <tbody>\n",
       "    <tr>\n",
       "      <th>0</th>\n",
       "      <td>SqFtTotLiving</td>\n",
       "      <td>289.048846</td>\n",
       "    </tr>\n",
       "    <tr>\n",
       "      <th>1</th>\n",
       "      <td>SqFtLot</td>\n",
       "      <td>0.029471</td>\n",
       "    </tr>\n",
       "    <tr>\n",
       "      <th>2</th>\n",
       "      <td>Bathrooms</td>\n",
       "      <td>0.000000</td>\n",
       "    </tr>\n",
       "    <tr>\n",
       "      <th>3</th>\n",
       "      <td>Bedrooms</td>\n",
       "      <td>-0.000000</td>\n",
       "    </tr>\n",
       "    <tr>\n",
       "      <th>4</th>\n",
       "      <td>BldgGrade</td>\n",
       "      <td>0.000000</td>\n",
       "    </tr>\n",
       "    <tr>\n",
       "      <th>5</th>\n",
       "      <td>NbrLivingUnits</td>\n",
       "      <td>-0.000000</td>\n",
       "    </tr>\n",
       "    <tr>\n",
       "      <th>6</th>\n",
       "      <td>SqFtFinBasement</td>\n",
       "      <td>3.316479</td>\n",
       "    </tr>\n",
       "    <tr>\n",
       "      <th>7</th>\n",
       "      <td>YrBuilt</td>\n",
       "      <td>-0.000000</td>\n",
       "    </tr>\n",
       "    <tr>\n",
       "      <th>8</th>\n",
       "      <td>YrRenovated</td>\n",
       "      <td>45.727472</td>\n",
       "    </tr>\n",
       "    <tr>\n",
       "      <th>9</th>\n",
       "      <td>NewConstruction</td>\n",
       "      <td>-0.000000</td>\n",
       "    </tr>\n",
       "    <tr>\n",
       "      <th>10</th>\n",
       "      <td>PropertyType_Single Family</td>\n",
       "      <td>-0.000000</td>\n",
       "    </tr>\n",
       "    <tr>\n",
       "      <th>11</th>\n",
       "      <td>PropertyType_Townhouse</td>\n",
       "      <td>0.000000</td>\n",
       "    </tr>\n",
       "  </tbody>\n",
       "</table>\n",
       "</div>"
      ],
      "text/plain": [
       "                          name        coef\n",
       "0                SqFtTotLiving  289.048846\n",
       "1                      SqFtLot    0.029471\n",
       "2                    Bathrooms    0.000000\n",
       "3                     Bedrooms   -0.000000\n",
       "4                    BldgGrade    0.000000\n",
       "5               NbrLivingUnits   -0.000000\n",
       "6              SqFtFinBasement    3.316479\n",
       "7                      YrBuilt   -0.000000\n",
       "8                  YrRenovated   45.727472\n",
       "9              NewConstruction   -0.000000\n",
       "10  PropertyType_Single Family   -0.000000\n",
       "11      PropertyType_Townhouse    0.000000"
      ]
     },
     "execution_count": 98,
     "metadata": {},
     "output_type": "execute_result"
    }
   ],
   "source": [
    "pd.DataFrame({\n",
    "    'name': columns,\n",
    "    'coef': modelCV.coef_, \n",
    "})"
   ]
  },
  {
   "cell_type": "code",
   "execution_count": 99,
   "id": "3ea00b20",
   "metadata": {},
   "outputs": [],
   "source": [
    "# Intercept: 6177658.144\n",
    "# Coefficients:\n",
    "#  SqFtTotLiving: 199.27474217544048\n",
    "#  BldgGrade: 137181.13724627026\n",
    "#  YrBuilt: -3564.934870415041\n",
    "#  Bedrooms: -51974.76845567939\n",
    "#  Bathrooms: 42403.059999677665\n",
    "#  PropertyType_Townhouse: 84378.9333363999\n",
    "#  SqFtFinBasement: 7.032178917565108\n",
    "#  PropertyType_Single Family: 22854.87954019308"
   ]
  },
  {
   "cell_type": "code",
   "execution_count": null,
   "id": "5dd2caaf",
   "metadata": {},
   "outputs": [],
   "source": []
  }
 ],
 "metadata": {
  "kernelspec": {
   "display_name": "Python 3 (ipykernel)",
   "language": "python",
   "name": "python3"
  },
  "language_info": {
   "codemirror_mode": {
    "name": "ipython",
    "version": 3
   },
   "file_extension": ".py",
   "mimetype": "text/x-python",
   "name": "python",
   "nbconvert_exporter": "python",
   "pygments_lexer": "ipython3",
   "version": "3.9.12"
  }
 },
 "nbformat": 4,
 "nbformat_minor": 5
}
